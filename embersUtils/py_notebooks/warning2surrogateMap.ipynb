{
 "metadata": {
  "name": "warning2surrogateMap"
 },
 "nbformat": 3,
 "nbformat_minor": 0,
 "worksheets": [
  {
   "cells": [
    {
     "cell_type": "code",
     "collapsed": false,
     "input": [
      "with open(\"/home/vicky/DataSets/DynamicQueryExpansion/April/aprilwarnings.txt\") as fw:\n",
      "    fwarnings = [json.loads(k) for k in fw]\n",
      "print len(fwarnings)"
     ],
     "language": "python",
     "metadata": {},
     "outputs": [],
     "prompt_number": "*"
    }
   ],
   "metadata": {}
  }
 ]
}