{
 "metadata": {
  "name": "Untitled2"
 },
 "nbformat": 3,
 "nbformat_minor": 0,
 "worksheets": [
  {
   "cells": [
    {
     "cell_type": "code",
     "collapsed": false,
     "input": [
      "cd /mnt/Data/embers/RSS_enriched/2012/stats/"
     ],
     "language": "python",
     "metadata": {},
     "outputs": [
      {
       "output_type": "stream",
       "stream": "stdout",
       "text": [
        "/mnt/Data/embers/RSS_enriched/2012/stats\n"
       ]
      }
     ],
     "prompt_number": 1
    },
    {
     "cell_type": "code",
     "collapsed": false,
     "input": [
      "mv ../Counts_jun ./\n"
     ],
     "language": "python",
     "metadata": {},
     "outputs": [],
     "prompt_number": 2
    },
    {
     "cell_type": "code",
     "collapsed": false,
     "input": [
      "ls"
     ],
     "language": "python",
     "metadata": {},
     "outputs": [
      {
       "output_type": "stream",
       "stream": "stdout",
       "text": [
        "Counts_April             Counts_Febcity_counts  Counts_marchcity_counts\r\n",
        "Counts_Aprilcity_counts  Counts_jan             Counts_may\r\n",
        "Counts_Dec               Counts_jancity_counts  Counts_maycity_counts\r\n",
        "Counts_Deccity_counts    Counts_jun             required_cities.txt\r\n",
        "Counts_Feb               Counts_march\r\n"
       ]
      }
     ],
     "prompt_number": 3
    },
    {
     "cell_type": "code",
     "collapsed": false,
     "input": [
      "import os\n",
      "import json\n",
      "combined = dict()\n",
      "fls = os.listdir(\".\")\n",
      "for k in fls:\n",
      "    if \"Counts\" not in k:\n",
      "        continue\n",
      "    if \"city\" in k:\n",
      "        continue\n",
      "    print k\n",
      "    with open(k) as f:\n",
      "        for l in f:\n",
      "            j = json.loads(l.decode(\"utf-8\"))\n",
      "            for t in j:\n",
      "                combined.setdefault(t, dict())\n",
      "                for co in j[t]:\n",
      "                    combined[t].setdefault(co, dict())\n",
      "                    for dt in j[t][co]:\n",
      "                        combined[t][co].setdefault(dt, dict())\n",
      "                        for kw in j[t][co][dt]:\n",
      "                            combined[t][co][dt].setdefault(kw, 0)\n",
      "                            combined[t][co][dt][kw] += 1\n",
      "\n",
      "                 "
     ],
     "language": "python",
     "metadata": {},
     "outputs": [
      {
       "output_type": "stream",
       "stream": "stdout",
       "text": [
        "Counts_may\n",
        "Counts_jan"
       ]
      },
      {
       "output_type": "stream",
       "stream": "stdout",
       "text": [
        "\n",
        "Counts_Feb"
       ]
      },
      {
       "output_type": "stream",
       "stream": "stdout",
       "text": [
        "\n",
        "Counts_Dec"
       ]
      },
      {
       "output_type": "stream",
       "stream": "stdout",
       "text": [
        "\n",
        "Counts_march"
       ]
      },
      {
       "output_type": "stream",
       "stream": "stdout",
       "text": [
        "\n",
        "Counts_jun"
       ]
      },
      {
       "output_type": "stream",
       "stream": "stdout",
       "text": [
        "\n",
        "Counts_April"
       ]
      },
      {
       "output_type": "stream",
       "stream": "stdout",
       "text": [
        "\n"
       ]
      }
     ],
     "prompt_number": 9
    },
    {
     "cell_type": "code",
     "collapsed": false,
     "input": [
      "with open(\"combined_country.json\", \"w\") as out:\n",
      "    out.write(json.dumps(combined, ensure_ascii=False).encode(\"utf-8\"))"
     ],
     "language": "python",
     "metadata": {},
     "outputs": [],
     "prompt_number": 10
    },
    {
     "cell_type": "code",
     "collapsed": false,
     "input": [
      "with open(\"%s\" % k) as f:\n",
      "    j = json.loads(f.read())\n",
      "    for t in j:\n",
      "        for co in j[t]:\n",
      "            with open(\"%s_%s.csv\" % (co, t), \"w\") as out:\n",
      "                print_csv(j[t][co], rowheader=\"Date\", transpose=False, colNames=cNames, rowNames=dts, fwrite=out)"
     ],
     "language": "python",
     "metadata": {},
     "outputs": []
    }
   ],
   "metadata": {}
  }
 ]
}