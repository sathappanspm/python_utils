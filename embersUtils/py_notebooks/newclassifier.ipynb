{
 "metadata": {
  "name": "newclassifier"
 },
 "nbformat": 3,
 "nbformat_minor": 0,
 "worksheets": [
  {
   "cells": [
    {
     "cell_type": "code",
     "collapsed": false,
     "input": [
      "import sys\n",
      "#print sys.path\n",
      "sys.path.extend([\"/home/vicky/workspace/CACI_integration/cu-evaluations/scratch/civilUnrest\", \"/home/vicky/workspace/CACI_integration/scratch/twitter\",\"/home/vicky/workspace/CACI_integration/scratch/\" ])\n",
      "import newtweetprobclassifier as nc\n",
      "from newtweetprobclassifier import Densifier\n",
      "clf = nc.TweetClassifier.load()\n",
      "out = open(\"/home/vicky/workspace/CACI_integration/cu-evaluations/scratch/FusionClassifier/dynWarnings_newclassifier.txt\", \"w\")"
     ],
     "language": "python",
     "metadata": {},
     "outputs": [],
     "prompt_number": 12
    },
    {
     "cell_type": "code",
     "collapsed": false,
     "input": [
      "import json\n",
      "with open(\"/home/vicky/DataSets/DynamicQueryExpansion/AllWarningsWithText/allWarnings.txt\") as f:\n",
      "    cnt = 0\n",
      "    for l in f:\n",
      "        cnt += 1\n",
      "        w = json.loads(l.decode(\"utf-8\"))\n",
      "        txt = \"\"\n",
      "        for t in w[\"derivedFrom\"][\"derivedTws\"]:\n",
      "            txt += \". \" + \" \".join([s[\"lemma\"] for s in t[\"BasisEnrichment\"][\"tokens\"]])\n",
      "        w[\"eventType\"], w[\"population\"] = clf.predict(txt)\n",
      "        out.write(json.dumps(w, ensure_ascii=False, encoding=\"utf-8\").encode(\"utf-8\") + \"\\n\")\n",
      "        #print cnt\n",
      "out.close()\n"
     ],
     "language": "python",
     "metadata": {},
     "outputs": [],
     "prompt_number": 13
    }
   ],
   "metadata": {}
  }
 ]
}