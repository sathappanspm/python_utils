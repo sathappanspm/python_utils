{
 "metadata": {
  "name": "ILI_Healthmap"
 },
 "nbformat": 3,
 "nbformat_minor": 0,
 "worksheets": [
  {
   "cells": [
    {
     "cell_type": "code",
     "collapsed": false,
     "input": [
      "cd /mnt/Data2/HealthMap/raw_data/"
     ],
     "language": "python",
     "metadata": {},
     "outputs": [
      {
       "output_type": "stream",
       "stream": "stdout",
       "text": [
        "/mnt/Data2/HealthMap/raw_data\n"
       ]
      }
     ],
     "prompt_number": 1
    },
    {
     "cell_type": "code",
     "collapsed": false,
     "input": [
      "import os\n",
      "import json\n",
      "ls = os.listdir(\".\")\n",
      "cnt=0\n",
      "tcnt=0\n",
      "for k in ls:\n",
      "    with open(k) as inp:\n",
      "        #with open(\"../summary_descrCombined/\" + k, \"w\") as out:\n",
      "        #cnt = 0\n",
      "        #tcnt = 0\n",
      "        for l in inp:\n",
      "            tcnt += 1\n",
      "            try:\n",
      "                j = json.loads(l.strip().decode(\"utf-8\"))\n",
      "            except:\n",
      "                cnt += 1\n",
      "                #print j[\"summary\"]\n",
      "            if j[\"summary\"] is None:\n",
      "                summary = \"\"\n",
      "                cnt += 1\n",
      "            else:\n",
      "                summary = j[\"summary\"]\n",
      "                    \n",
      "            j[\"fullContent\"] = j[\"descr\"] + \" . \" + summary\n",
      "                #out.write(json.dumps(j,  ensure_ascii=False).encode(\"utf-8\") + \"\\n\")\n",
      "print cnt\n",
      "print tcnt"
     ],
     "language": "python",
     "metadata": {},
     "outputs": [
      {
       "output_type": "stream",
       "stream": "stdout",
       "text": [
        "1122\n",
        "36106\n"
       ]
      }
     ],
     "prompt_number": 65
    },
    {
     "cell_type": "code",
     "collapsed": false,
     "input": [
      "kwfile = open(\"../config/word_list_small.json\")\n",
      "j = json.load(kwfile)\n",
      "len(j)\n",
      "print j.keys()\n",
      "print sum([len(j[k]) for k in j])\n",
      "s = [w for k in j for w in j[k] if len(w.split()) > 1]\n",
      "s"
     ],
     "language": "python",
     "metadata": {},
     "outputs": [
      {
       "output_type": "stream",
       "stream": "stdout",
       "text": [
        "[u'FR', u'EN', u'ES', u'PT']\n",
        "268\n"
       ]
      },
      {
       "output_type": "pyout",
       "prompt_number": 77,
       "text": [
        "[u'laisser lettre',\n",
        " u'nez bouch\\xe9',\n",
        " u'sympt\\xf4mes de la grippe',\n",
        " u'maux de gorge',\n",
        " u'congestion nasale',\n",
        " u'maux de t\\xeate',\n",
        " u'nez qui coule',\n",
        " u'flu symptoms',\n",
        " u'symptoms of flu',\n",
        " u'running nose',\n",
        " u'blocked nose',\n",
        " u'leave letter',\n",
        " u'sore throat',\n",
        " u'nasal congestion',\n",
        " u'Los s\\xedntomas de la gripe',\n",
        " u'secreci\\xf3n nasal',\n",
        " u'dolor de cabeza',\n",
        " u's\\xedntomas de la gripe',\n",
        " u'deja carta',\n",
        " u'dolor de garganta',\n",
        " u'dejar carta',\n",
        " u'congesti\\xf3n nasal',\n",
        " u'nariz tapada',\n",
        " u'nariz entupido',\n",
        " u'congest\\xe3o nasal',\n",
        " u'garganta inflamada',\n",
        " u'sintomas da gripe',\n",
        " u'sintomas de gripe',\n",
        " u'deixar letra',\n",
        " u'dor de cabe\\xe7a']"
       ]
      }
     ],
     "prompt_number": 77
    },
    {
     "cell_type": "code",
     "collapsed": false,
     "input": [],
     "language": "python",
     "metadata": {},
     "outputs": [],
     "prompt_number": 65
    },
    {
     "cell_type": "code",
     "collapsed": false,
     "input": [],
     "language": "python",
     "metadata": {},
     "outputs": [],
     "prompt_number": 65
    },
    {
     "cell_type": "code",
     "collapsed": false,
     "input": [],
     "language": "python",
     "metadata": {},
     "outputs": []
    }
   ],
   "metadata": {}
  }
 ]
}