{
 "metadata": {
  "name": "Replay-Audit Trail"
 },
 "nbformat": 3,
 "nbformat_minor": 0,
 "worksheets": [
  {
   "cells": [
    {
     "cell_type": "code",
     "collapsed": false,
     "input": [
      "cd /home/vicky/workspace/CACI_integration/copy/scratch/AuditTrail/PlannedProtest-Replay/"
     ],
     "language": "python",
     "metadata": {},
     "outputs": [
      {
       "output_type": "stream",
       "stream": "stdout",
       "text": [
        "/home/vicky/workspace/CACI_integration/copy/scratch/AuditTrail/PlannedProtest-Replay\n"
       ]
      }
     ],
     "prompt_number": 1
    },
    {
     "cell_type": "code",
     "collapsed": false,
     "input": [
      "a = open(\"warnings_2013-05-01to2013-05-31.txt\")\n",
      "import json\n",
      "wrngs = [json.loads(k.decode(\"utf-8\")) for k in a]\n",
      "plwrngs = [k for k in wrngs if \"planned\" in k[\"model\"].lower()]\n",
      "pltwitter = [k for k in plwrngs if \"rss\" not in k[\"derivedFrom\"][\"source\"].lower()]\n",
      "plrss = [k for k in plwrngs if \"rss\" in k[\"derivedFrom\"][\"source\"].lower()]"
     ],
     "language": "python",
     "metadata": {},
     "outputs": [],
     "prompt_number": 2
    },
    {
     "cell_type": "code",
     "collapsed": false,
     "input": [
      "print len(plrss)\n",
      "print len(pltwitter)\n",
      "print  len(plwrngs)\n",
      "\n",
      "#with open(\"pltwitter.txt\", \"w\") as out:\n",
      "#    for k in pltwitter:\n",
      "#        out.write(json.dumps(k,  ensure_ascii=False).encode(\"utf-8\") + \"\\n\")\n"
     ],
     "language": "python",
     "metadata": {},
     "outputs": [
      {
       "output_type": "stream",
       "stream": "stdout",
       "text": [
        "153\n",
        "398\n",
        "551\n"
       ]
      }
     ],
     "prompt_number": 11
    },
    {
     "cell_type": "code",
     "collapsed": false,
     "input": [
      "dump = open(\"data/mayWrngsRawDump.txt\")\n",
      "#j = json.loads(dump.next())\n",
      "#j.keys()"
     ],
     "language": "python",
     "metadata": {},
     "outputs": [],
     "prompt_number": 16
    },
    {
     "cell_type": "code",
     "collapsed": false,
     "input": [
      "dump.seek(0)\n",
      "with open(\"data/twitter_rawMsgs.txt\", \"w\") as tout:\n",
      "    with open(\"data/RSS_rawMsgs.txt\", \"w\") as out:\n",
      "        for l in dump:\n",
      "            j = json.loads(l.decode(\"utf-8\"))\n",
      "            if \"news\" in j or \"blog\" in j or \"google_id\" in j:\n",
      "                out.write(json.dumps(j,  ensure_ascii=False).encode(\"utf-8\") + \"\\n\")\n",
      "            else:\n",
      "                tout.write(json.dumps(j,  ensure_ascii=False).encode(\"utf-8\") + \"\\n\")"
     ],
     "language": "python",
     "metadata": {},
     "outputs": [],
     "prompt_number": 17
    },
    {
     "cell_type": "code",
     "collapsed": false,
     "input": [],
     "language": "python",
     "metadata": {},
     "outputs": []
    }
   ],
   "metadata": {}
  }
 ]
}