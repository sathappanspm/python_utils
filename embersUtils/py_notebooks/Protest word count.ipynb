{
 "metadata": {
  "name": "Protest word count"
 },
 "nbformat": 3,
 "nbformat_minor": 0,
 "worksheets": [
  {
   "cells": [
    {
     "cell_type": "code",
     "collapsed": false,
     "input": [
      "cd /mnt/Data2/twitter/2013/datasift_june/"
     ],
     "language": "python",
     "metadata": {},
     "outputs": [
      {
       "output_type": "stream",
       "stream": "stdout",
       "text": [
        "/mnt/Data2/twitter/2013/datasift_june\n"
       ]
      }
     ],
     "prompt_number": 2
    },
    {
     "cell_type": "code",
     "collapsed": false,
     "input": [
      "from unidecode import unidecode\n",
      "def normalize_str(s):\n",
      "    \"\"\"strip string of accents. Converts input string to Ascii and returns a unicode object\"\"\"\n",
      "    if s is None:\n",
      "        s = \"\"\n",
      "    try:\n",
      "        if isinstance(s, str):\n",
      "            return unidecode(s.decode('utf-8').strip()).lower()\n",
      "    except UnicodeDecodeError:\n",
      "        return unidecode(s.strip()).lowe()\n",
      "    return unidecode(s.strip()).lower()"
     ],
     "language": "python",
     "metadata": {},
     "outputs": [],
     "prompt_number": 8
    },
    {
     "cell_type": "code",
     "collapsed": false,
     "input": [
      "import os\n",
      "import json\n",
      "#from gutil import normalize_str\n",
      "ld = os.listdir(\".\")\n",
      "marchdict = dict()\n",
      "huelgadict = dict()\n",
      "demonstrdict = dict()\n",
      "grevdict = dict()\n",
      "manifestdict = dict()\n",
      "strikdict = dict()\n",
      "for f in ld:\n",
      "    with open(f) as ff:\n",
      "        for l in ff:\n",
      "            try:\n",
      "                j = json.loads(l.strip().decode(\"utf-8\"))\n",
      "            except Exception, e:\n",
      "                print str(e)\n",
      "                continue\n",
      "            for w in j[\"BasisEnrichment\"][\"tokens\"]:\n",
      "                txt = w[\"lemma\"] if w[\"value\"] else w[\"value\"]\n",
      "                ntxt = normalize_str(txt)\n",
      "                if \"march\" in normalize_str(txt):\n",
      "                    marchdict.setdefault(txt, 0)\n",
      "                    marchdict[txt] += 1\n",
      "                \n",
      "                if \"huelg\" in ntxt:\n",
      "                    huelgadict.setdefault(txt, 0)\n",
      "                    huelgadict[txt] += 1\n",
      "                \n",
      "                if  \"strik\" in ntxt:\n",
      "                    strikdict.setdefault(txt, 0)\n",
      "                    strikdict[txt] += 1\n",
      "                \n",
      "                if \"manifest\" in ntxt:\n",
      "                    manifestdict.setdefault(txt, 0)\n",
      "                    manifestdict[txt] += 1\n",
      "                \n",
      "                if \"grev\" in ntxt:\n",
      "                    grevdict.setdefault(txt, 0)\n",
      "                    grevdict[txt] += 1"
     ],
     "language": "python",
     "metadata": {},
     "outputs": [
      {
       "output_type": "stream",
       "stream": "stdout",
       "text": [
        "Expecting : delimiter: line 1 column 2866 (char 2866)\n",
        "Expecting , delimiter: line 1 column 1445 (char 1445)\n",
        "Expecting object: line 1 column 5495 (char 5495)"
       ]
      },
      {
       "output_type": "stream",
       "stream": "stdout",
       "text": [
        "\n",
        "Expecting object: line 1 column 5554 (char 5554)\n",
        "Expecting : delimiter: line 1 column 3642 (char 3642)\n",
        "Expecting : delimiter: line 1 column 269 (char 269)\n",
        "Expecting : delimiter: line 1 column 1282 (char 1282)"
       ]
      },
      {
       "output_type": "stream",
       "stream": "stdout",
       "text": [
        "\n"
       ]
      }
     ],
     "prompt_number": 20
    },
    {
     "cell_type": "code",
     "collapsed": false,
     "input": [
      "sum(cntdict.values())"
     ],
     "language": "python",
     "metadata": {},
     "outputs": [
      {
       "output_type": "pyout",
       "prompt_number": 19,
       "text": [
        "3750"
       ]
      }
     ],
     "prompt_number": 19
    },
    {
     "cell_type": "code",
     "collapsed": false,
     "input": [
      "out = open(\"../manifestCount.txt\", \"w\")\n",
      "for k in manifestdict:\n",
      "    out.write(\"%s, %s\\n\" % (k.encode(\"utf-8\"), manifestdict[k]))\n",
      "out.close()"
     ],
     "language": "python",
     "metadata": {},
     "outputs": [],
     "prompt_number": 26
    }
   ],
   "metadata": {}
  }
 ]
}