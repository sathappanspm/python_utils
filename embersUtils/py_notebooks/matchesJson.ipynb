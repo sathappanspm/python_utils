{
 "metadata": {
  "name": "matchesJson"
 },
 "nbformat": 3,
 "nbformat_minor": 0,
 "worksheets": [
  {
   "cells": [
    {
     "cell_type": "code",
     "collapsed": false,
     "input": [
      "cd /home/vicky/workspace/CACI_integration/cu-evaluations/scratch/civilUnrest/"
     ],
     "language": "python",
     "metadata": {},
     "outputs": [
      {
       "output_type": "stream",
       "stream": "stdout",
       "text": [
        "/home/vicky/workspace/CACI_integration/cu-evaluations/scratch/civilUnrest\n"
       ]
      }
     ],
     "prompt_number": 3
    },
    {
     "cell_type": "code",
     "collapsed": false,
     "input": [
      "import json\n",
      "with open(\"matches_2013-03_2013-03_.json\") as inp:\n",
      "    j = json.load(inp)\n",
      "matches = dict()\n",
      "for k in j:\n",
      "    wid = k[0][0][\"embersId\"]\n",
      "    gid = k[1][\"embersId\"]\n",
      "    matches[wid] = gid\n",
      "print len(matches)"
     ],
     "language": "python",
     "metadata": {},
     "outputs": [
      {
       "output_type": "stream",
       "stream": "stdout",
       "text": [
        "142\n"
       ]
      }
     ],
     "prompt_number": 33
    },
    {
     "cell_type": "code",
     "collapsed": false,
     "input": [
      "trueeventpop = dict()\n",
      "for k in j:\n",
      "    wid = k[0][0][\"embersId\"]\n",
      "    tevent = k[1][\"eventType\"]\n",
      "    tpopln = k[1][\"population\"]\n",
      "    trueeventpop[wid] = [tevent, tpopln]"
     ],
     "language": "python",
     "metadata": {},
     "outputs": [],
     "prompt_number": 34
    },
    {
     "cell_type": "code",
     "collapsed": false,
     "input": [
      "with open(\"../FusionClassifier/March_trueClassification.txt\", \"w\") as out:\n",
      "    out.write(json.dumps(trueeventpop))\n",
      "print len(trueeventpop)\n"
     ],
     "language": "python",
     "metadata": {},
     "outputs": [
      {
       "output_type": "stream",
       "stream": "stdout",
       "text": [
        "142\n"
       ]
      }
     ],
     "prompt_number": 35
    },
    {
     "cell_type": "code",
     "collapsed": false,
     "input": [],
     "language": "python",
     "metadata": {},
     "outputs": []
    }
   ],
   "metadata": {}
  }
 ]
}