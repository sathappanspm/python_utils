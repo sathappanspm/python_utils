{
 "metadata": {
  "name": "remove duplicates"
 },
 "nbformat": 3,
 "nbformat_minor": 0,
 "worksheets": [
  {
   "cells": [
    {
     "cell_type": "code",
     "collapsed": false,
     "input": [
      "import json\n",
      "wfile = open(\"/home/vicky/DataSets/DynamicQueryExpansion/AllDNQwarnings.txt\")\n",
      "w = [json.loads(k) for k in wfile]\n",
      "\n"
     ],
     "language": "python",
     "metadata": {},
     "outputs": [],
     "prompt_number": 42
    },
    {
     "cell_type": "code",
     "collapsed": false,
     "input": [
      "s = set()\n",
      "rd = []\n",
      "for k in w:\n",
      "    fullstr = k[\"eventDate\"][:10] + k[\"eventType\"] + k[\"population\"] + str(k[\"location\"])\n",
      "    if fullstr not in s:\n",
      "        rd.append(k)\n",
      "        s.update([fullstr])"
     ],
     "language": "python",
     "metadata": {},
     "outputs": [],
     "prompt_number": 43
    },
    {
     "cell_type": "code",
     "collapsed": false,
     "input": [
      "len(w)"
     ],
     "language": "python",
     "metadata": {},
     "outputs": [
      {
       "output_type": "pyout",
       "prompt_number": 44,
       "text": [
        "586"
       ]
      }
     ],
     "prompt_number": 44
    },
    {
     "cell_type": "code",
     "collapsed": false,
     "input": [
      "len(rd)"
     ],
     "language": "python",
     "metadata": {},
     "outputs": [
      {
       "output_type": "pyout",
       "prompt_number": 45,
       "text": [
        "586"
       ]
      }
     ],
     "prompt_number": 45
    },
    {
     "cell_type": "code",
     "collapsed": false,
     "input": [
      "with open(\"/home/vicky/DataSets/DynamicQueryExpansion/uniqueDNQwarnings.txt\", \"w\") as out:\n",
      "    for k in rd:\n",
      "        out.write(json.dumps(k, ensure_ascii=False).encode(\"utf-8\"))"
     ],
     "language": "python",
     "metadata": {},
     "outputs": [],
     "prompt_number": 46
    },
    {
     "cell_type": "code",
     "collapsed": false,
     "input": [],
     "language": "python",
     "metadata": {},
     "outputs": [],
     "prompt_number": 46
    }
   ],
   "metadata": {}
  }
 ]
}