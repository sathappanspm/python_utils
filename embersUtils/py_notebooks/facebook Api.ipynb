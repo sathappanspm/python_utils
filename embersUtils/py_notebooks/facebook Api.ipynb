{
 "metadata": {
  "name": "facebook Api"
 },
 "nbformat": 3,
 "nbformat_minor": 0,
 "worksheets": [
  {
   "cells": [
    {
     "cell_type": "code",
     "collapsed": false,
     "input": [
      "import pyfb\n",
      "from pyfb import Pyfb\n",
      "\n",
      "FACEBOOK_APP_ID = '591900774163591'\n",
      "\n",
      "facebook = Pyfb(FACEBOOK_APP_ID)\n",
      "facebook.authenticate()"
     ],
     "language": "python",
     "metadata": {},
     "outputs": [],
     "prompt_number": 9
    },
    {
     "cell_type": "code",
     "collapsed": false,
     "input": [
      "token=\"CAACEdEose0cBABJJx7cugp8XGb6LbndDBZCWakmVneR2qYZAZCsqrai2hJVgktILrtqutKyBEZBIqI5EhreRZB2OElArrXpOZCyGmV4PXqhDGh7l4miAcGXfpDcoLrVCqAZBZBIDFYWV0A98iSDQzB6uXkqCGs70WktO3iREOwILOQZDZD\"\n",
      "facebook.set_access_token(token)"
     ],
     "language": "python",
     "metadata": {},
     "outputs": [],
     "prompt_number": 12
    },
    {
     "cell_type": "code",
     "collapsed": false,
     "input": [
      "me = facebook.get_myself()\n",
      "\n",
      "print \"-\" * 40\n",
      "print \"Name: %s\" % me.name\n",
      "#print \"From: %s\" % me.hometown.name\n",
      "#print \n",
      "\n",
      "#print \"Speaks:\"\n",
      "#for language in me.languages:\n",
      "#    print \"- %s\" % language.name\n",
      "    \n",
      "#print     \n",
      "#print \"Worked at:\"\n",
      "#for work in me.work:\n",
      "#    print \"- %s\" % work.employer.name\n",
      "\n",
      "#print \"-\" * 40"
     ],
     "language": "python",
     "metadata": {},
     "outputs": [
      {
       "output_type": "stream",
       "stream": "stdout",
       "text": [
        "----------------------------------------\n",
        "Name: Embers Vt\n"
       ]
      }
     ],
     "prompt_number": 15
    },
    {
     "cell_type": "code",
     "collapsed": false,
     "input": [
      "import facebook\n",
      "#from facebook import Facebook\n",
      "access_token = \"CAAIaVKNi5IcBAEZBdzcpERryQv7ZCb27d6HbrZC0itZBQjqHr8vEOAQQ3rMGGev1rngCr4JS7FeiCOTF9XGChJ3mNxTl9Uvdn6OaHmjnPKta1nCMirAC5O2nUqpKeyiSGgAXOoZAVpldrnWTeLr38ybuodRbpkdVS1kXkhNpxvwZDZD\"\n",
      "fbgraph = facebook.GraphAPI(access_token)"
     ],
     "language": "python",
     "metadata": {},
     "outputs": [],
     "prompt_number": 41
    },
    {
     "cell_type": "code",
     "collapsed": false,
     "input": [
      "profile = fbgraph.get_object(\"me\")\n",
      "friends = fbgraph.get_connections(\"me\", \"friends\")\n",
      "\n",
      "friend_list = [friend['name'] for friend in friends['data']]\n",
      "\n",
      "print friend_list"
     ],
     "language": "python",
     "metadata": {},
     "outputs": [
      {
       "output_type": "stream",
       "stream": "stdout",
       "text": [
        "[]\n"
       ]
      }
     ],
     "prompt_number": 43
    },
    {
     "cell_type": "code",
     "collapsed": false,
     "input": [
      "help(fbgraph.api_request)\n",
      "rs = fbgraph.request(\"search\", {\"q\": \"protesto\", \"type\": \"event\"})"
     ],
     "language": "python",
     "metadata": {},
     "outputs": [
      {
       "output_type": "stream",
       "stream": "stdout",
       "text": [
        "Help on method api_request in module facebook:\n",
        "\n",
        "api_request(self, path, args=None, post_args=None) method of facebook.GraphAPI instance\n",
        "    Fetches the given path in the Graph API.\n",
        "    \n",
        "    We translate args to a valid query string. If post_args is\n",
        "    given, we send a POST request to the given path with the given\n",
        "    arguments.\n",
        "\n"
       ]
      }
     ],
     "prompt_number": 51
    },
    {
     "cell_type": "code",
     "collapsed": false,
     "input": [
      "len(rs)\n",
      "rs[\"paging\"]"
     ],
     "language": "python",
     "metadata": {},
     "outputs": [
      {
       "output_type": "pyout",
       "prompt_number": 55,
       "text": [
        "{'next': 'https://graph.facebook.com/search?q=protesto&type=event&access_token=CAAIaVKNi5IcBAEZBdzcpERryQv7ZCb27d6HbrZC0itZBQjqHr8vEOAQQ3rMGGev1rngCr4JS7FeiCOTF9XGChJ3mNxTl9Uvdn6OaHmjnPKta1nCMirAC5O2nUqpKeyiSGgAXOoZAVpldrnWTeLr38ybuodRbpkdVS1kXkhNpxvwZDZD&limit=25&until=1025481600&__paging_token=174652666042759',\n",
        " 'previous': 'https://graph.facebook.com/search?q=protesto&type=event&access_token=CAAIaVKNi5IcBAEZBdzcpERryQv7ZCb27d6HbrZC0itZBQjqHr8vEOAQQ3rMGGev1rngCr4JS7FeiCOTF9XGChJ3mNxTl9Uvdn6OaHmjnPKta1nCMirAC5O2nUqpKeyiSGgAXOoZAVpldrnWTeLr38ybuodRbpkdVS1kXkhNpxvwZDZD&limit=25&since=1378580400&__paging_token=176017335906615&__previous=1'}"
       ]
      }
     ],
     "prompt_number": 55
    },
    {
     "cell_type": "code",
     "collapsed": false,
     "input": [
      "data = rs[\"data\"]\n",
      "len(data)\n",
      "print data[0][\"id\"]\n",
      "ers = fbgraph.request(data[0][\"id\"])\n",
      "ers.keys()"
     ],
     "language": "python",
     "metadata": {},
     "outputs": [
      {
       "output_type": "stream",
       "stream": "stdout",
       "text": [
        "176017335906615\n"
       ]
      },
      {
       "output_type": "pyout",
       "prompt_number": 70,
       "text": [
        "['description',\n",
        " 'privacy',\n",
        " 'start_time',\n",
        " 'venue',\n",
        " 'updated_time',\n",
        " 'is_date_only',\n",
        " 'location',\n",
        " 'owner',\n",
        " 'id',\n",
        " 'name']"
       ]
      }
     ],
     "prompt_number": 70
    },
    {
     "cell_type": "code",
     "collapsed": false,
     "input": [
      "ers[\"venue\"]\n",
      "ers.keys()\n",
      "arr = fbgraph.request(data[0][\"id\"], {\"fields\": \"attending\"})\n",
      "len(arr[\"attending\"][\"data\"])\n",
      "#lc = fbgraph.request(ers[\"venue\"][\"id\"])\n",
      "#lc.keys()\n",
      "et = \"https://graph.facebook.com/debug_token?input_token={}&access_token={}\".format(access_token, access_token)\n",
      "fbgraph.extend_access_token('591900774163591', \"f404735cdd5dd4554246ee7ed8456037\")\n",
      "fbgraph.request(\"debug_token\", {\"input_token\": access_token, \"access_token\": access_token})"
     ],
     "language": "python",
     "metadata": {},
     "outputs": [
      {
       "ename": "GraphAPIError",
       "evalue": "Error validating access token: The session is invalid because the user logged out.",
       "output_type": "pyerr",
       "traceback": [
        "\u001b[1;31m---------------------------------------------------------------------------\u001b[0m\n\u001b[1;31mGraphAPIError\u001b[0m                             Traceback (most recent call last)",
        "\u001b[1;32m<ipython-input-87-fee96ec29552>\u001b[0m in \u001b[0;36m<module>\u001b[1;34m()\u001b[0m\n\u001b[0;32m      1\u001b[0m \u001b[0mers\u001b[0m\u001b[1;33m[\u001b[0m\u001b[1;34m\"venue\"\u001b[0m\u001b[1;33m]\u001b[0m\u001b[1;33m\u001b[0m\u001b[0m\n\u001b[0;32m      2\u001b[0m \u001b[0mers\u001b[0m\u001b[1;33m.\u001b[0m\u001b[0mkeys\u001b[0m\u001b[1;33m(\u001b[0m\u001b[1;33m)\u001b[0m\u001b[1;33m\u001b[0m\u001b[0m\n\u001b[1;32m----> 3\u001b[1;33m \u001b[0marr\u001b[0m \u001b[1;33m=\u001b[0m \u001b[0mfbgraph\u001b[0m\u001b[1;33m.\u001b[0m\u001b[0mrequest\u001b[0m\u001b[1;33m(\u001b[0m\u001b[0mdata\u001b[0m\u001b[1;33m[\u001b[0m\u001b[1;36m0\u001b[0m\u001b[1;33m]\u001b[0m\u001b[1;33m[\u001b[0m\u001b[1;34m\"id\"\u001b[0m\u001b[1;33m]\u001b[0m\u001b[1;33m,\u001b[0m \u001b[1;33m{\u001b[0m\u001b[1;34m\"fields\"\u001b[0m\u001b[1;33m:\u001b[0m \u001b[1;34m\"attending\"\u001b[0m\u001b[1;33m}\u001b[0m\u001b[1;33m)\u001b[0m\u001b[1;33m\u001b[0m\u001b[0m\n\u001b[0m\u001b[0;32m      4\u001b[0m \u001b[0mlen\u001b[0m\u001b[1;33m(\u001b[0m\u001b[0marr\u001b[0m\u001b[1;33m[\u001b[0m\u001b[1;34m\"attending\"\u001b[0m\u001b[1;33m]\u001b[0m\u001b[1;33m[\u001b[0m\u001b[1;34m\"data\"\u001b[0m\u001b[1;33m]\u001b[0m\u001b[1;33m)\u001b[0m\u001b[1;33m\u001b[0m\u001b[0m\n\u001b[0;32m      5\u001b[0m \u001b[1;31m#lc = fbgraph.request(ers[\"venue\"][\"id\"])\u001b[0m\u001b[1;33m\u001b[0m\u001b[1;33m\u001b[0m\u001b[0m\n",
        "\u001b[1;32m/usr/lib/python2.7/site-packages/facebook.pyc\u001b[0m in \u001b[0;36mrequest\u001b[1;34m(self, path, args, post_args)\u001b[0m\n\u001b[0;32m    296\u001b[0m         \u001b[1;32mexcept\u001b[0m \u001b[0murllib2\u001b[0m\u001b[1;33m.\u001b[0m\u001b[0mHTTPError\u001b[0m\u001b[1;33m,\u001b[0m \u001b[0me\u001b[0m\u001b[1;33m:\u001b[0m\u001b[1;33m\u001b[0m\u001b[0m\n\u001b[0;32m    297\u001b[0m             \u001b[0mresponse\u001b[0m \u001b[1;33m=\u001b[0m \u001b[0m_parse_json\u001b[0m\u001b[1;33m(\u001b[0m\u001b[0me\u001b[0m\u001b[1;33m.\u001b[0m\u001b[0mread\u001b[0m\u001b[1;33m(\u001b[0m\u001b[1;33m)\u001b[0m\u001b[1;33m)\u001b[0m\u001b[1;33m\u001b[0m\u001b[0m\n\u001b[1;32m--> 298\u001b[1;33m             \u001b[1;32mraise\u001b[0m \u001b[0mGraphAPIError\u001b[0m\u001b[1;33m(\u001b[0m\u001b[0mresponse\u001b[0m\u001b[1;33m)\u001b[0m\u001b[1;33m\u001b[0m\u001b[0m\n\u001b[0m\u001b[0;32m    299\u001b[0m         \u001b[1;32mexcept\u001b[0m \u001b[0mTypeError\u001b[0m\u001b[1;33m:\u001b[0m\u001b[1;33m\u001b[0m\u001b[0m\n\u001b[0;32m    300\u001b[0m             \u001b[1;31m# Timeout support for Python <2.6\u001b[0m\u001b[1;33m\u001b[0m\u001b[1;33m\u001b[0m\u001b[0m\n",
        "\u001b[1;31mGraphAPIError\u001b[0m: Error validating access token: The session is invalid because the user logged out."
       ]
      }
     ],
     "prompt_number": 87
    }
   ],
   "metadata": {}
  }
 ]
}