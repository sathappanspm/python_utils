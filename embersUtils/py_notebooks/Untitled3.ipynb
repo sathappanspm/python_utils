{
 "metadata": {
  "name": "Untitled3"
 },
 "nbformat": 3,
 "nbformat_minor": 0,
 "worksheets": [
  {
   "cells": [
    {
     "cell_type": "code",
     "collapsed": false,
     "input": [
      "cd /home/vicky/workspace/git/embers/data/"
     ],
     "language": "python",
     "metadata": {},
     "outputs": [
      {
       "output_type": "stream",
       "stream": "stdout",
       "text": [
        "/home/vicky/workspace/git/embers/data\n"
       ]
      }
     ],
     "prompt_number": 49
    },
    {
     "cell_type": "code",
     "collapsed": false,
     "input": [
      "from datetime import datetime\n",
      "\n",
      "def todate(d):\n",
      "    datetime.strptime(d, \"%Y-%m-%d\")\n",
      "\n",
      "a = open(\"PL_BRAZIL_RSS_JUNE.txt\")\n",
      "b = open(\"/home/vicky/workspace/CACI_integration/scratch/plannedProtest/v_3/RSS_BrazilWarnings.txt\")\n",
      "import json\n",
      "wrngs = [json.loads(k.decode(\"utf-8\")) for k in a]\n",
      "b_allWrngs = [json.loads(k.decode(\"utf-8\")) for k in b]\n",
      "\n",
      "b_allJune = [k for k in b_allWrngs if todate(k[\"eventDate\"][:10]) >= todate(\"2013-06-01\")]\n",
      "\n",
      "print len(wrngs)\n",
      "print len(b_allJune)\n",
      "\n",
      "import copy\n",
      "nwset = copy.deepcopy(wrngs)\n",
      "idset = set()\n",
      "for k in wrngs:\n",
      "    s = k[\"date\"][:10] + k[\"eventDate\"][:10] + k[\"population\"] + k[\"eventType\"] + str(k[\"location\"])\n",
      "    idset.update([s])\n",
      "\n",
      "for k in b_allJune:\n",
      "    s = k[\"date\"][:10] + k[\"eventDate\"][:10] + k[\"population\"] + k[\"eventType\"] + str(k[\"location\"])\n",
      "    if s not in idset:\n",
      "        nwset.append(k)\n",
      "        \n",
      "print len(nwset)\n",
      "\n",
      "wrngs = nwset\n",
      "    "
     ],
     "language": "python",
     "metadata": {},
     "outputs": [
      {
       "output_type": "stream",
       "stream": "stdout",
       "text": [
        "856\n",
        "858\n",
        "1311"
       ]
      },
      {
       "output_type": "stream",
       "stream": "stdout",
       "text": [
        "\n"
       ]
      }
     ],
     "prompt_number": 58
    },
    {
     "cell_type": "code",
     "collapsed": false,
     "input": [
      "sent_ts = dict()\n",
      "for k in wrngs:\n",
      "    sent_ts.setdefault(k[\"eventDate\"][:10], 0)\n",
      "    sent_ts[k[\"eventDate\"][:10]] += 1\n",
      "\n",
      "out = open(\"RSS_eventDatetimeseries.txt\", \"w\")\n",
      "from datetime import datetime, timedelta\n",
      "dt= datetime(2013, 6, 1)\n",
      "#print \"hello\"\n",
      "while dt < datetime(2013,7, 1):\n",
      "    #print dt\n",
      "    dtstr = dt.strftime(\"%Y-%m-%d\")\n",
      "    n = sent_ts.get(dtstr, 0)\n",
      "    #ut.write(k + \", \", )\n",
      "    out.write(dtstr + \", \"+ str(n) + \"\\n\")\n",
      "    dt += timedelta(days=1)\n",
      "\n",
      "out.close()"
     ],
     "language": "python",
     "metadata": {},
     "outputs": [],
     "prompt_number": 60
    },
    {
     "cell_type": "code",
     "collapsed": false,
     "input": [
      "a = open(\"twitter_PlannedProtest_Brazil.txt\")\n",
      "import json\n",
      "wrngs = [json.loads(k.decode(\"utf-8\")) for k in a]\n",
      "sent_ts = dict()\n",
      "for k in wrngs:\n",
      "    sent_ts.setdefault(k[\"date\"][:10], 0)\n",
      "    sent_ts[k[\"date\"][:10]] += 1\n",
      "\n",
      "out = open(\"twitter_sent_timeseries.txt\", \"w\")\n",
      "for k in sent_ts:\n",
      "    out.write(k + \", \" + str(sent_ts[k]))\n",
      "\n",
      "out.close()"
     ],
     "language": "python",
     "metadata": {},
     "outputs": [],
     "prompt_number": 34
    }
   ],
   "metadata": {}
  }
 ]
}