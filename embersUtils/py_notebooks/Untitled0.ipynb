{
 "metadata": {
  "name": "Untitled0"
 },
 "nbformat": 3,
 "nbformat_minor": 0,
 "worksheets": [
  {
   "cells": [
    {
     "cell_type": "code",
     "collapsed": false,
     "input": [
      "cd /mnt/Data/embers/RSS_enriched/2012"
     ],
     "language": "python",
     "metadata": {},
     "outputs": [
      {
       "output_type": "stream",
       "stream": "stdout",
       "text": [
        "/mnt/Data/embers/RSS_enriched/2012\n"
       ]
      }
     ],
     "prompt_number": 62
    },
    {
     "cell_type": "code",
     "collapsed": false,
     "input": [
      "import os\n",
      "ls = os.listdir(\"stats\")"
     ],
     "language": "python",
     "metadata": {},
     "outputs": [],
     "prompt_number": 64
    },
    {
     "cell_type": "code",
     "collapsed": false,
     "input": [
      "from datetime import datetime, timedelta\n",
      "dts = []\n",
      "dt = datetime(2012, 12, 1)\n",
      "while dt <= datetime(2013, 6, 30):\n",
      "    dts.append(dt.strftime(\"%Y-%m-%d\"))\n",
      "    dt += timedelta(days=1)\n",
      "import json\n",
      "cNames = json.loads(open(\"/home/vicky/CU_list.txt\").read().decode(\"utf-8\"))"
     ],
     "language": "python",
     "metadata": {},
     "outputs": [],
     "prompt_number": 85
    },
    {
     "cell_type": "code",
     "collapsed": false,
     "input": [
      "import sys\n",
      "sys.path.append(\"/home/vicky/workspace/git/python_utils/\")      "
     ],
     "language": "python",
     "metadata": {},
     "outputs": [],
     "prompt_number": 86
    },
    {
     "cell_type": "code",
     "collapsed": false,
     "input": [
      "from gutils import print_csv\n",
      "def print_csv(data, separator=\",\", rowHeader='', default=0, transpose=True, colNames=None, rowNames=None, total=False, fwrite=sys.stdout, **kwargs):\n",
      "    \"\"\"\n",
      "    seperator: Type of seperator to be used like comma,  tab etc\n",
      "    rowHeader: the name of each row, if none default is '', where i is the row number\n",
      "    colNames: Names of columns\n",
      "    transpose: if True, the data is stored as data[column][row] else it is data[row][col]\n",
      "    \"\"\"\n",
      "    #print data.keys()\n",
      "    if transpose:\n",
      "        if not colNames:\n",
      "            colNames = data.keys()\n",
      "\n",
      "        if not rowNames:\n",
      "            rowNames = []\n",
      "            for k in data:\n",
      "                rowNames.extend(data[k].keys())\n",
      "            row_index = sorted(list(set(rowNames)))\n",
      "        else:\n",
      "            row_index = rowNames\n",
      "\n",
      "        for k in colNames:\n",
      "            if k not in data:\n",
      "                data.setdefault(k, dict())\n",
      "\n",
      "        header = separator.join([toStr(rowHeader)] + [toStr(k) for k in colNames])\n",
      "        if total:\n",
      "            header += separator + \"total\"\n",
      "\n",
      "        fwrite.write(header.encode(\"utf-8\") + \"\\n\")\n",
      "        for i in row_index:\n",
      "            row = [toStr(i)] + [toStr(data[k].get(i, default)) for k in colNames]\n",
      "            if total:\n",
      "                row += [str(sum([data[k].get(i, float(default)) for k in colNames]))]\n",
      "            fwrite.write(separator.join(row).encode(\"utf-8\") + \"\\n\")\n",
      "    else:\n",
      "        if not rowNames:\n",
      "            row_index = sorted(data.keys())\n",
      "        else:\n",
      "            row_index = rowNames\n",
      "\n",
      "        if not colNames:\n",
      "            colNames = []\n",
      "            for k in data:\n",
      "                colNames.extend(data[k].keys())\n",
      "            colNames = sorted(list(set(colNames)))\n",
      "\n",
      "        header = separator.join([toStr(rowHeader)] + [toStr(k) for k in colNames])\n",
      "        if total:\n",
      "            header += separator + \"total\"\n",
      "\n",
      "        for k in rowNames:\n",
      "            data.setdefault(k, dict())\n",
      "\n",
      "        fwrite.write(header.encode(\"utf-8\") + \"\\n\")\n",
      "        for i in row_index:\n",
      "            row = [toStr(i)] + [toStr(data[i].get(k, default)) for k in colNames]\n",
      "            if total:\n",
      "                row += [str(sum([data[i].get(k, float(default)) for k in colNames]))]\n",
      "\n",
      "            fwrite.write(separator.join(row).encode(\"utf-8\") + \"\\n\")\n",
      "\n",
      "    return\n",
      "\n",
      "def toStr(x, sep=\",\"):\n",
      "    \"\"\"Creates string representation of the incmg object. If list, elements will be seperated by char sep.\"\"\"\n",
      "    if isinstance(x, str) or isinstance(x, unicode):\n",
      "        return x\n",
      "    try:\n",
      "        return sep.join([str(k) for k in x])\n",
      "    except:\n",
      "        return str(x)"
     ],
     "language": "python",
     "metadata": {},
     "outputs": [],
     "prompt_number": 83
    },
    {
     "cell_type": "code",
     "collapsed": false,
     "input": [
      "from unidecode import unidecode\n",
      "with open(\"stats/combined_country.json\") as f:\n",
      "    j = json.loads(f.read().decode(\"utf-8\"))\n",
      "    for t in j:\n",
      "        for co in j[t]:\n",
      "            print co, t\n",
      "            with open(\"%s_%s.csv\" % (unidecode(co), t), \"w\") as out:\n",
      "                print_csv(j[t][co], rowheader=\"Date\", transpose=False, colNames=cNames, rowNames=dts, fwrite=out)"
     ],
     "language": "python",
     "metadata": {},
     "outputs": [
      {
       "output_type": "stream",
       "stream": "stdout",
       "text": [
        "Canada blog\n"
       ]
      },
      {
       "output_type": "stream",
       "stream": "stdout",
       "text": [
        " blog\n",
        "Turkmenistan"
       ]
      },
      {
       "output_type": "stream",
       "stream": "stdout",
       "text": [
        " blog\n",
        "United States of America"
       ]
      },
      {
       "output_type": "stream",
       "stream": "stdout",
       "text": [
        " blog\n",
        "Lithuania"
       ]
      },
      {
       "output_type": "stream",
       "stream": "stdout",
       "text": [
        " blog\n",
        "Cambodia"
       ]
      },
      {
       "output_type": "stream",
       "stream": "stdout",
       "text": [
        " blog\n",
        "Ethiopia"
       ]
      },
      {
       "output_type": "stream",
       "stream": "stdout",
       "text": [
        " blog\n",
        "Aruba"
       ]
      },
      {
       "output_type": "stream",
       "stream": "stdout",
       "text": [
        " blog\n",
        "Palestine"
       ]
      },
      {
       "output_type": "stream",
       "stream": "stdout",
       "text": [
        " blog\n",
        "Argentina"
       ]
      },
      {
       "output_type": "stream",
       "stream": "stdout",
       "text": [
        " blog\n",
        "Bolivia"
       ]
      },
      {
       "output_type": "stream",
       "stream": "stdout",
       "text": [
        " blog\n",
        "Cameroon"
       ]
      },
      {
       "output_type": "stream",
       "stream": "stdout",
       "text": [
        " blog\n",
        "Burkina Faso"
       ]
      },
      {
       "output_type": "stream",
       "stream": "stdout",
       "text": [
        " blog\n",
        "Bahrain"
       ]
      },
      {
       "output_type": "stream",
       "stream": "stdout",
       "text": [
        " blog\n",
        "Korea (North)"
       ]
      },
      {
       "output_type": "stream",
       "stream": "stdout",
       "text": [
        " blog\n",
        "Saudi Arabia"
       ]
      },
      {
       "output_type": "stream",
       "stream": "stdout",
       "text": [
        " blog\n",
        "Myanmar"
       ]
      },
      {
       "output_type": "stream",
       "stream": "stdout",
       "text": [
        " blog\n",
        "American Samoa"
       ]
      },
      {
       "output_type": "stream",
       "stream": "stdout",
       "text": [
        " blog\n",
        "Slovenia"
       ]
      },
      {
       "output_type": "stream",
       "stream": "stdout",
       "text": [
        " blog\n",
        "Guatemala"
       ]
      },
      {
       "output_type": "stream",
       "stream": "stdout",
       "text": [
        " blog\n",
        "Bosnia and Herzegovina"
       ]
      },
      {
       "output_type": "stream",
       "stream": "stdout",
       "text": [
        " blog\n",
        "Guinea"
       ]
      },
      {
       "output_type": "stream",
       "stream": "stdout",
       "text": [
        " blog\n",
        "Germany"
       ]
      },
      {
       "output_type": "stream",
       "stream": "stdout",
       "text": [
        " blog\n",
        "Spain"
       ]
      },
      {
       "output_type": "stream",
       "stream": "stdout",
       "text": [
        " blog\n",
        "Liberia"
       ]
      },
      {
       "output_type": "stream",
       "stream": "stdout",
       "text": [
        " blog\n",
        "Netherlands"
       ]
      },
      {
       "output_type": "stream",
       "stream": "stdout",
       "text": [
        " blog\n",
        "Paraguay"
       ]
      },
      {
       "output_type": "stream",
       "stream": "stdout",
       "text": [
        " blog\n",
        "Pakistan"
       ]
      },
      {
       "output_type": "stream",
       "stream": "stdout",
       "text": [
        " blog\n",
        "Oman"
       ]
      },
      {
       "output_type": "stream",
       "stream": "stdout",
       "text": [
        " blog\n",
        "Tanzania"
       ]
      },
      {
       "output_type": "stream",
       "stream": "stdout",
       "text": [
        " blog\n",
        "Greenland"
       ]
      },
      {
       "output_type": "stream",
       "stream": "stdout",
       "text": [
        " blog\n",
        "French Guiana"
       ]
      },
      {
       "output_type": "stream",
       "stream": "stdout",
       "text": [
        " blog\n",
        "Monaco"
       ]
      },
      {
       "output_type": "stream",
       "stream": "stdout",
       "text": [
        " blog\n",
        "New Zealand"
       ]
      },
      {
       "output_type": "stream",
       "stream": "stdout",
       "text": [
        " blog\n",
        "Yemen"
       ]
      },
      {
       "output_type": "stream",
       "stream": "stdout",
       "text": [
        " blog\n",
        "Jamaica"
       ]
      },
      {
       "output_type": "stream",
       "stream": "stdout",
       "text": [
        " blog\n",
        "Albania"
       ]
      },
      {
       "output_type": "stream",
       "stream": "stdout",
       "text": [
        " blog\n",
        "Samoa"
       ]
      },
      {
       "output_type": "stream",
       "stream": "stdout",
       "text": [
        " blog\n",
        "United Arab Emirates"
       ]
      },
      {
       "output_type": "stream",
       "stream": "stdout",
       "text": [
        " blog\n",
        "Uruguay"
       ]
      },
      {
       "output_type": "stream",
       "stream": "stdout",
       "text": [
        " blog\n",
        "India"
       ]
      },
      {
       "output_type": "stream",
       "stream": "stdout",
       "text": [
        " blog\n",
        "Azerbaijan"
       ]
      },
      {
       "output_type": "stream",
       "stream": "stdout",
       "text": [
        " blog\n",
        "Lesotho"
       ]
      },
      {
       "output_type": "stream",
       "stream": "stdout",
       "text": [
        " blog\n",
        "Kenya"
       ]
      },
      {
       "output_type": "stream",
       "stream": "stdout",
       "text": [
        " blog\n",
        "Belarus"
       ]
      },
      {
       "output_type": "stream",
       "stream": "stdout",
       "text": [
        " blog\n",
        "Tajikistan"
       ]
      },
      {
       "output_type": "stream",
       "stream": "stdout",
       "text": [
        " blog\n",
        "Turkey"
       ]
      },
      {
       "output_type": "stream",
       "stream": "stdout",
       "text": [
        " blog\n",
        "Afghanistan"
       ]
      },
      {
       "output_type": "stream",
       "stream": "stdout",
       "text": [
        " blog\n",
        "Northern Mariana Islands"
       ]
      },
      {
       "output_type": "stream",
       "stream": "stdout",
       "text": [
        " blog\n",
        "Eritrea"
       ]
      },
      {
       "output_type": "stream",
       "stream": "stdout",
       "text": [
        " blog\n",
        "Solomon Islands"
       ]
      },
      {
       "output_type": "stream",
       "stream": "stdout",
       "text": [
        " blog\n",
        "San Marino"
       ]
      },
      {
       "output_type": "stream",
       "stream": "stdout",
       "text": [
        " blog\n",
        "Kyrgyzstan"
       ]
      },
      {
       "output_type": "stream",
       "stream": "stdout",
       "text": [
        " blog\n",
        "Mongolia"
       ]
      },
      {
       "output_type": "stream",
       "stream": "stdout",
       "text": [
        " blog\n",
        "France"
       ]
      },
      {
       "output_type": "stream",
       "stream": "stdout",
       "text": [
        " blog\n",
        "Svalbard and Jan Mayen"
       ]
      },
      {
       "output_type": "stream",
       "stream": "stdout",
       "text": [
        " blog\n",
        "Rwanda"
       ]
      },
      {
       "output_type": "stream",
       "stream": "stdout",
       "text": [
        " blog\n",
        "Slovakia"
       ]
      },
      {
       "output_type": "stream",
       "stream": "stdout",
       "text": [
        " blog\n",
        "Somalia"
       ]
      },
      {
       "output_type": "stream",
       "stream": "stdout",
       "text": [
        " blog\n",
        "Peru"
       ]
      },
      {
       "output_type": "stream",
       "stream": "stdout",
       "text": [
        " blog\n",
        "Laos"
       ]
      },
      {
       "output_type": "stream",
       "stream": "stdout",
       "text": [
        " blog\n",
        "Norway"
       ]
      },
      {
       "output_type": "stream",
       "stream": "stdout",
       "text": [
        " blog\n",
        "Malawi"
       ]
      },
      {
       "output_type": "stream",
       "stream": "stdout",
       "text": [
        " blog\n",
        "Benin"
       ]
      },
      {
       "output_type": "stream",
       "stream": "stdout",
       "text": [
        " blog\n",
        "Cuba"
       ]
      },
      {
       "output_type": "stream",
       "stream": "stdout",
       "text": [
        " blog\n",
        "Korea (South)"
       ]
      },
      {
       "output_type": "stream",
       "stream": "stdout",
       "text": [
        " blog\n",
        "Montenegro"
       ]
      },
      {
       "output_type": "stream",
       "stream": "stdout",
       "text": [
        " blog\n",
        "Togo"
       ]
      },
      {
       "output_type": "stream",
       "stream": "stdout",
       "text": [
        " blog\n",
        "China"
       ]
      },
      {
       "output_type": "stream",
       "stream": "stdout",
       "text": [
        " blog\n",
        "Armenia"
       ]
      },
      {
       "output_type": "stream",
       "stream": "stdout",
       "text": [
        " blog\n",
        "Dominican Republic"
       ]
      },
      {
       "output_type": "stream",
       "stream": "stdout",
       "text": [
        " blog\n",
        "Ukraine"
       ]
      },
      {
       "output_type": "stream",
       "stream": "stdout",
       "text": [
        " blog\n",
        "Ghana"
       ]
      },
      {
       "output_type": "stream",
       "stream": "stdout",
       "text": [
        " blog\n",
        "Finland"
       ]
      },
      {
       "output_type": "stream",
       "stream": "stdout",
       "text": [
        " blog\n",
        "Libya"
       ]
      },
      {
       "output_type": "stream",
       "stream": "stdout",
       "text": [
        " blog\n",
        "Indonesia"
       ]
      },
      {
       "output_type": "stream",
       "stream": "stdout",
       "text": [
        " blog\n",
        "Central African Republic"
       ]
      },
      {
       "output_type": "stream",
       "stream": "stdout",
       "text": [
        " blog\n",
        "Mauritius"
       ]
      },
      {
       "output_type": "stream",
       "stream": "stdout",
       "text": [
        " blog\n",
        "Sweden"
       ]
      },
      {
       "output_type": "stream",
       "stream": "stdout",
       "text": [
        " blog\n",
        "Vietnam"
       ]
      },
      {
       "output_type": "stream",
       "stream": "stdout",
       "text": [
        " blog\n",
        "Mali"
       ]
      },
      {
       "output_type": "stream",
       "stream": "stdout",
       "text": [
        " blog\n",
        "Vatican City"
       ]
      },
      {
       "output_type": "stream",
       "stream": "stdout",
       "text": [
        " blog\n",
        "Russia"
       ]
      },
      {
       "output_type": "stream",
       "stream": "stdout",
       "text": [
        " blog\n",
        "Bulgaria"
       ]
      },
      {
       "output_type": "stream",
       "stream": "stdout",
       "text": [
        " blog\n",
        "Romania"
       ]
      },
      {
       "output_type": "stream",
       "stream": "stdout",
       "text": [
        " blog\n",
        "Angola"
       ]
      },
      {
       "output_type": "stream",
       "stream": "stdout",
       "text": [
        " blog\n",
        "Algeria"
       ]
      },
      {
       "output_type": "stream",
       "stream": "stdout",
       "text": [
        " blog\n",
        "Portugal"
       ]
      },
      {
       "output_type": "stream",
       "stream": "stdout",
       "text": [
        " blog\n",
        "South Africa"
       ]
      },
      {
       "output_type": "stream",
       "stream": "stdout",
       "text": [
        " blog\n",
        "Cyprus"
       ]
      },
      {
       "output_type": "stream",
       "stream": "stdout",
       "text": [
        " blog\n",
        "Qatar"
       ]
      },
      {
       "output_type": "stream",
       "stream": "stdout",
       "text": [
        " blog\n",
        "Malaysia"
       ]
      },
      {
       "output_type": "stream",
       "stream": "stdout",
       "text": [
        " blog\n",
        "Austria"
       ]
      },
      {
       "output_type": "stream",
       "stream": "stdout",
       "text": [
        " blog\n",
        "Mozambique"
       ]
      },
      {
       "output_type": "stream",
       "stream": "stdout",
       "text": [
        " blog\n",
        "Uganda"
       ]
      },
      {
       "output_type": "stream",
       "stream": "stdout",
       "text": [
        " blog\n",
        "Hungary"
       ]
      },
      {
       "output_type": "stream",
       "stream": "stdout",
       "text": [
        " blog\n",
        "Niger"
       ]
      },
      {
       "output_type": "stream",
       "stream": "stdout",
       "text": [
        " blog\n",
        "Isle of Man"
       ]
      },
      {
       "output_type": "stream",
       "stream": "stdout",
       "text": [
        " blog\n",
        "Brazil"
       ]
      },
      {
       "output_type": "stream",
       "stream": "stdout",
       "text": [
        " blog\n",
        "Faroe Islands"
       ]
      },
      {
       "output_type": "stream",
       "stream": "stdout",
       "text": [
        " blog\n",
        "Kuwait"
       ]
      },
      {
       "output_type": "stream",
       "stream": "stdout",
       "text": [
        " blog\n",
        "Panama"
       ]
      },
      {
       "output_type": "stream",
       "stream": "stdout",
       "text": [
        " blog\n",
        "Costa Rica"
       ]
      },
      {
       "output_type": "stream",
       "stream": "stdout",
       "text": [
        " blog\n",
        "Luxembourg"
       ]
      },
      {
       "output_type": "stream",
       "stream": "stdout",
       "text": [
        " blog\n",
        "Cape Verde"
       ]
      },
      {
       "output_type": "stream",
       "stream": "stdout",
       "text": [
        " blog\n",
        "Bahamas"
       ]
      },
      {
       "output_type": "stream",
       "stream": "stdout",
       "text": [
        " blog\n",
        "Saint Vincent and The Grenadines"
       ]
      },
      {
       "output_type": "stream",
       "stream": "stdout",
       "text": [
        " blog\n",
        "Gibraltar"
       ]
      },
      {
       "output_type": "stream",
       "stream": "stdout",
       "text": [
        " blog\n",
        "Ivory Coast"
       ]
      },
      {
       "output_type": "stream",
       "stream": "stdout",
       "text": [
        " blog\n",
        "Nigeria"
       ]
      },
      {
       "output_type": "stream",
       "stream": "stdout",
       "text": [
        " blog\n",
        "Ecuador"
       ]
      },
      {
       "output_type": "stream",
       "stream": "stdout",
       "text": [
        " blog\n",
        "Czech Republic"
       ]
      },
      {
       "output_type": "stream",
       "stream": "stdout",
       "text": [
        " blog\n",
        "Australia"
       ]
      },
      {
       "output_type": "stream",
       "stream": "stdout",
       "text": [
        " blog\n",
        "Iran"
       ]
      },
      {
       "output_type": "stream",
       "stream": "stdout",
       "text": [
        " blog\n",
        "East Timor"
       ]
      },
      {
       "output_type": "stream",
       "stream": "stdout",
       "text": [
        " blog\n",
        "El Salvador"
       ]
      },
      {
       "output_type": "stream",
       "stream": "stdout",
       "text": [
        " blog\n",
        "Tuvalu"
       ]
      },
      {
       "output_type": "stream",
       "stream": "stdout",
       "text": [
        " blog\n",
        "Marshall Islands"
       ]
      },
      {
       "output_type": "stream",
       "stream": "stdout",
       "text": [
        " blog\n",
        "Chile"
       ]
      },
      {
       "output_type": "stream",
       "stream": "stdout",
       "text": [
        " blog\n",
        "Puerto Rico"
       ]
      },
      {
       "output_type": "stream",
       "stream": "stdout",
       "text": [
        " blog\n",
        "Belgium"
       ]
      },
      {
       "output_type": "stream",
       "stream": "stdout",
       "text": [
        " blog\n",
        "Kiribati"
       ]
      },
      {
       "output_type": "stream",
       "stream": "stdout",
       "text": [
        " blog\n",
        "Haiti"
       ]
      },
      {
       "output_type": "stream",
       "stream": "stdout",
       "text": [
        " blog\n",
        "Belize"
       ]
      },
      {
       "output_type": "stream",
       "stream": "stdout",
       "text": [
        " blog\n",
        "Sierra Leone"
       ]
      },
      {
       "output_type": "stream",
       "stream": "stdout",
       "text": [
        " blog\n",
        "Georgia"
       ]
      },
      {
       "output_type": "stream",
       "stream": "stdout",
       "text": [
        " blog\n",
        "Gambia"
       ]
      },
      {
       "output_type": "stream",
       "stream": "stdout",
       "text": [
        " blog\n",
        "Poland"
       ]
      },
      {
       "output_type": "stream",
       "stream": "stdout",
       "text": [
        " blog\n",
        "Moldova"
       ]
      },
      {
       "output_type": "stream",
       "stream": "stdout",
       "text": [
        " blog\n",
        "Morocco"
       ]
      },
      {
       "output_type": "stream",
       "stream": "stdout",
       "text": [
        " blog\n",
        "Namibia"
       ]
      },
      {
       "output_type": "stream",
       "stream": "stdout",
       "text": [
        " blog\n",
        "French Polynesia"
       ]
      },
      {
       "output_type": "stream",
       "stream": "stdout",
       "text": [
        " blog\n",
        "Guinea-Bissau"
       ]
      },
      {
       "output_type": "stream",
       "stream": "stdout",
       "text": [
        " blog\n",
        "Switzerland"
       ]
      },
      {
       "output_type": "stream",
       "stream": "stdout",
       "text": [
        " blog\n",
        "Bangladesh"
       ]
      },
      {
       "output_type": "stream",
       "stream": "stdout",
       "text": [
        " blog\n",
        "Seychelles"
       ]
      },
      {
       "output_type": "stream",
       "stream": "stdout",
       "text": [
        " blog\n",
        "Chad"
       ]
      },
      {
       "output_type": "stream",
       "stream": "stdout",
       "text": [
        " blog\n",
        "Estonia"
       ]
      },
      {
       "output_type": "stream",
       "stream": "stdout",
       "text": [
        " blog\n",
        "Kosovo"
       ]
      },
      {
       "output_type": "stream",
       "stream": "stdout",
       "text": [
        " blog\n",
        "Mexico"
       ]
      },
      {
       "output_type": "stream",
       "stream": "stdout",
       "text": [
        " blog\n",
        "Lebanon"
       ]
      },
      {
       "output_type": "stream",
       "stream": "stdout",
       "text": [
        " blog\n",
        "Congo (Dem. Rep.)"
       ]
      },
      {
       "output_type": "stream",
       "stream": "stdout",
       "text": [
        " blog\n",
        "Uzbekistan"
       ]
      },
      {
       "output_type": "stream",
       "stream": "stdout",
       "text": [
        " blog\n",
        "Egypt"
       ]
      },
      {
       "output_type": "stream",
       "stream": "stdout",
       "text": [
        " blog\n",
        "Djibouti"
       ]
      },
      {
       "output_type": "stream",
       "stream": "stdout",
       "text": [
        " blog\n",
        "Antigua and Barbuda"
       ]
      },
      {
       "output_type": "stream",
       "stream": "stdout",
       "text": [
        " blog\n",
        "Dominica"
       ]
      },
      {
       "output_type": "stream",
       "stream": "stdout",
       "text": [
        " blog\n",
        "Colombia"
       ]
      },
      {
       "output_type": "stream",
       "stream": "stdout",
       "text": [
        " blog\n",
        "Reunion"
       ]
      },
      {
       "output_type": "stream",
       "stream": "stdout",
       "text": [
        " blog\n",
        "Burundi"
       ]
      },
      {
       "output_type": "stream",
       "stream": "stdout",
       "text": [
        " blog\n",
        "Turks and Caicos Islands"
       ]
      },
      {
       "output_type": "stream",
       "stream": "stdout",
       "text": [
        " blog\n",
        "Barbados"
       ]
      },
      {
       "output_type": "stream",
       "stream": "stdout",
       "text": [
        " blog\n",
        "Madagascar"
       ]
      },
      {
       "output_type": "stream",
       "stream": "stdout",
       "text": [
        " blog\n",
        "Italy"
       ]
      },
      {
       "output_type": "stream",
       "stream": "stdout",
       "text": [
        " blog\n",
        "Bhutan"
       ]
      },
      {
       "output_type": "stream",
       "stream": "stdout",
       "text": [
        " blog\n",
        "Sudan"
       ]
      },
      {
       "output_type": "stream",
       "stream": "stdout",
       "text": [
        " blog\n",
        "Nepal"
       ]
      },
      {
       "output_type": "stream",
       "stream": "stdout",
       "text": [
        " blog\n",
        "Na"
       ]
      },
      {
       "output_type": "stream",
       "stream": "stdout",
       "text": [
        " blog\n",
        "Micronesia"
       ]
      },
      {
       "output_type": "stream",
       "stream": "stdout",
       "text": [
        " blog\n",
        "Maldives"
       ]
      },
      {
       "output_type": "stream",
       "stream": "stdout",
       "text": [
        " blog\n",
        "Suriname"
       ]
      },
      {
       "output_type": "stream",
       "stream": "stdout",
       "text": [
        " blog\n",
        "S\u00e3o Tom\u00e9 and Pr\u00edncipe"
       ]
      },
      {
       "output_type": "stream",
       "stream": "stdout",
       "text": [
        " blog\n",
        "Anguilla"
       ]
      },
      {
       "output_type": "stream",
       "stream": "stdout",
       "text": [
        " blog\n",
        "Venezuela"
       ]
      },
      {
       "output_type": "stream",
       "stream": "stdout",
       "text": [
        " blog\n",
        "Israel"
       ]
      },
      {
       "output_type": "stream",
       "stream": "stdout",
       "text": [
        " blog\n",
        "Iceland"
       ]
      },
      {
       "output_type": "stream",
       "stream": "stdout",
       "text": [
        " blog\n",
        "Zambia"
       ]
      },
      {
       "output_type": "stream",
       "stream": "stdout",
       "text": [
        " blog\n",
        "-"
       ]
      },
      {
       "output_type": "stream",
       "stream": "stdout",
       "text": [
        " blog\n",
        "Senegal"
       ]
      },
      {
       "output_type": "stream",
       "stream": "stdout",
       "text": [
        " blog\n",
        "Papua New Guinea"
       ]
      },
      {
       "output_type": "stream",
       "stream": "stdout",
       "text": [
        " blog\n",
        "Gabon"
       ]
      },
      {
       "output_type": "stream",
       "stream": "stdout",
       "text": [
        " blog\n",
        "Zimbabwe"
       ]
      },
      {
       "output_type": "stream",
       "stream": "stdout",
       "text": [
        " blog\n",
        "Jordan"
       ]
      },
      {
       "output_type": "stream",
       "stream": "stdout",
       "text": [
        " blog\n",
        "Denmark"
       ]
      },
      {
       "output_type": "stream",
       "stream": "stdout",
       "text": [
        " blog\n",
        "Kazakhstan"
       ]
      },
      {
       "output_type": "stream",
       "stream": "stdout",
       "text": [
        " blog\n",
        "Philippines"
       ]
      },
      {
       "output_type": "stream",
       "stream": "stdout",
       "text": [
        " blog\n",
        "Mauritania"
       ]
      },
      {
       "output_type": "stream",
       "stream": "stdout",
       "text": [
        " blog\n",
        "Ireland"
       ]
      },
      {
       "output_type": "stream",
       "stream": "stdout",
       "text": [
        " blog\n",
        "Iraq"
       ]
      },
      {
       "output_type": "stream",
       "stream": "stdout",
       "text": [
        " blog\n",
        "New Caledonia"
       ]
      },
      {
       "output_type": "stream",
       "stream": "stdout",
       "text": [
        " blog\n",
        "Andorra"
       ]
      },
      {
       "output_type": "stream",
       "stream": "stdout",
       "text": [
        " blog\n",
        "Trinidad and Tobago"
       ]
      },
      {
       "output_type": "stream",
       "stream": "stdout",
       "text": [
        " blog\n",
        "Latvia"
       ]
      },
      {
       "output_type": "stream",
       "stream": "stdout",
       "text": [
        " blog\n",
        "South Sudan"
       ]
      },
      {
       "output_type": "stream",
       "stream": "stdout",
       "text": [
        " blog\n",
        "Guyana"
       ]
      },
      {
       "output_type": "stream",
       "stream": "stdout",
       "text": [
        " blog\n",
        "Croatia"
       ]
      },
      {
       "output_type": "stream",
       "stream": "stdout",
       "text": [
        " blog\n",
        "Syria"
       ]
      },
      {
       "output_type": "stream",
       "stream": "stdout",
       "text": [
        " blog\n",
        "Honduras"
       ]
      },
      {
       "output_type": "stream",
       "stream": "stdout",
       "text": [
        " blog\n",
        "Malta"
       ]
      },
      {
       "output_type": "stream",
       "stream": "stdout",
       "text": [
        " blog\n",
        "Equatorial Guinea"
       ]
      },
      {
       "output_type": "stream",
       "stream": "stdout",
       "text": [
        " blog\n",
        "Tunisia"
       ]
      },
      {
       "output_type": "stream",
       "stream": "stdout",
       "text": [
        " blog\n",
        "Nicaragua"
       ]
      },
      {
       "output_type": "stream",
       "stream": "stdout",
       "text": [
        " blog\n",
        "Singapore"
       ]
      },
      {
       "output_type": "stream",
       "stream": "stdout",
       "text": [
        " blog\n",
        "Serbia"
       ]
      },
      {
       "output_type": "stream",
       "stream": "stdout",
       "text": [
        " blog\n",
        "Botswana"
       ]
      },
      {
       "output_type": "stream",
       "stream": "stdout",
       "text": [
        " blog\n",
        "United Kingdom"
       ]
      },
      {
       "output_type": "stream",
       "stream": "stdout",
       "text": [
        " blog\n",
        "Antarctica"
       ]
      },
      {
       "output_type": "stream",
       "stream": "stdout",
       "text": [
        " blog\n",
        "Congo"
       ]
      },
      {
       "output_type": "stream",
       "stream": "stdout",
       "text": [
        " blog\n",
        "Greece"
       ]
      },
      {
       "output_type": "stream",
       "stream": "stdout",
       "text": [
        " blog\n",
        "Sri Lanka"
       ]
      },
      {
       "output_type": "stream",
       "stream": "stdout",
       "text": [
        " blog\n",
        "Cura\u00e7ao"
       ]
      },
      {
       "output_type": "stream",
       "stream": "stdout",
       "text": [
        " blog\n",
        "Comoros"
       ]
      },
      {
       "output_type": "stream",
       "stream": "stdout",
       "text": [
        " blog\n",
        "Canada"
       ]
      },
      {
       "output_type": "stream",
       "stream": "stdout",
       "text": [
        " news\n",
        "East Timor"
       ]
      },
      {
       "output_type": "stream",
       "stream": "stdout",
       "text": [
        " news\n",
        "Turkmenistan"
       ]
      },
      {
       "output_type": "stream",
       "stream": "stdout",
       "text": [
        " news\n"
       ]
      },
      {
       "output_type": "stream",
       "stream": "stdout",
       "text": [
        " news\n",
        "United States of America"
       ]
      },
      {
       "output_type": "stream",
       "stream": "stdout",
       "text": [
        " news\n",
        "Lithuania"
       ]
      },
      {
       "output_type": "stream",
       "stream": "stdout",
       "text": [
        " news\n",
        "Cambodia"
       ]
      },
      {
       "output_type": "stream",
       "stream": "stdout",
       "text": [
        " news\n",
        "Ethiopia"
       ]
      },
      {
       "output_type": "stream",
       "stream": "stdout",
       "text": [
        " news\n",
        "Aruba"
       ]
      },
      {
       "output_type": "stream",
       "stream": "stdout",
       "text": [
        " news\n",
        "Swaziland"
       ]
      },
      {
       "output_type": "stream",
       "stream": "stdout",
       "text": [
        " news\n",
        "Palestine"
       ]
      },
      {
       "output_type": "stream",
       "stream": "stdout",
       "text": [
        " news\n",
        "Argentina"
       ]
      },
      {
       "output_type": "stream",
       "stream": "stdout",
       "text": [
        " news\n",
        "Bolivia"
       ]
      },
      {
       "output_type": "stream",
       "stream": "stdout",
       "text": [
        " news\n",
        "Cameroon"
       ]
      },
      {
       "output_type": "stream",
       "stream": "stdout",
       "text": [
        " news\n",
        "Burkina Faso"
       ]
      },
      {
       "output_type": "stream",
       "stream": "stdout",
       "text": [
        " news\n",
        "Ghana"
       ]
      },
      {
       "output_type": "stream",
       "stream": "stdout",
       "text": [
        " news\n",
        "Korea (North)"
       ]
      },
      {
       "output_type": "stream",
       "stream": "stdout",
       "text": [
        " news\n",
        "Saudi Arabia"
       ]
      },
      {
       "output_type": "stream",
       "stream": "stdout",
       "text": [
        " news\n",
        "American Samoa"
       ]
      },
      {
       "output_type": "stream",
       "stream": "stdout",
       "text": [
        " news\n",
        "Slovenia"
       ]
      },
      {
       "output_type": "stream",
       "stream": "stdout",
       "text": [
        " news\n",
        "Guatemala"
       ]
      },
      {
       "output_type": "stream",
       "stream": "stdout",
       "text": [
        " news\n",
        "Malta"
       ]
      },
      {
       "output_type": "stream",
       "stream": "stdout",
       "text": [
        " news\n",
        "Bosnia and Herzegovina"
       ]
      },
      {
       "output_type": "stream",
       "stream": "stdout",
       "text": [
        " news\n",
        "Guinea"
       ]
      },
      {
       "output_type": "stream",
       "stream": "stdout",
       "text": [
        " news\n",
        "Jordan"
       ]
      },
      {
       "output_type": "stream",
       "stream": "stdout",
       "text": [
        " news\n",
        "Spain"
       ]
      },
      {
       "output_type": "stream",
       "stream": "stdout",
       "text": [
        " news\n",
        "Liberia"
       ]
      },
      {
       "output_type": "stream",
       "stream": "stdout",
       "text": [
        " news\n",
        "Netherlands"
       ]
      },
      {
       "output_type": "stream",
       "stream": "stdout",
       "text": [
        " news\n",
        "Paraguay"
       ]
      },
      {
       "output_type": "stream",
       "stream": "stdout",
       "text": [
        " news\n",
        "Pakistan"
       ]
      },
      {
       "output_type": "stream",
       "stream": "stdout",
       "text": [
        " news\n",
        "Oman"
       ]
      },
      {
       "output_type": "stream",
       "stream": "stdout",
       "text": [
        " news\n",
        "Tanzania"
       ]
      },
      {
       "output_type": "stream",
       "stream": "stdout",
       "text": [
        " news\n",
        "Seychelles"
       ]
      },
      {
       "output_type": "stream",
       "stream": "stdout",
       "text": [
        " news\n",
        "French Guiana"
       ]
      },
      {
       "output_type": "stream",
       "stream": "stdout",
       "text": [
        " news\n",
        "Monaco"
       ]
      },
      {
       "output_type": "stream",
       "stream": "stdout",
       "text": [
        " news\n",
        "Wallis and Futuna"
       ]
      },
      {
       "output_type": "stream",
       "stream": "stdout",
       "text": [
        " news\n",
        "New Zealand"
       ]
      },
      {
       "output_type": "stream",
       "stream": "stdout",
       "text": [
        " news\n",
        "Yemen"
       ]
      },
      {
       "output_type": "stream",
       "stream": "stdout",
       "text": [
        " news\n",
        "Jersey"
       ]
      },
      {
       "output_type": "stream",
       "stream": "stdout",
       "text": [
        " news\n",
        "Jamaica"
       ]
      },
      {
       "output_type": "stream",
       "stream": "stdout",
       "text": [
        " news\n",
        "Albania"
       ]
      },
      {
       "output_type": "stream",
       "stream": "stdout",
       "text": [
        " news\n",
        "Samoa"
       ]
      },
      {
       "output_type": "stream",
       "stream": "stdout",
       "text": [
        " news\n",
        "United Arab Emirates"
       ]
      },
      {
       "output_type": "stream",
       "stream": "stdout",
       "text": [
        " news\n",
        "Uruguay"
       ]
      },
      {
       "output_type": "stream",
       "stream": "stdout",
       "text": [
        " news\n",
        "India"
       ]
      },
      {
       "output_type": "stream",
       "stream": "stdout",
       "text": [
        " news\n",
        "Azerbaijan"
       ]
      },
      {
       "output_type": "stream",
       "stream": "stdout",
       "text": [
        " news\n",
        "Kenya"
       ]
      },
      {
       "output_type": "stream",
       "stream": "stdout",
       "text": [
        " news\n",
        "Belarus"
       ]
      },
      {
       "output_type": "stream",
       "stream": "stdout",
       "text": [
        " news\n",
        "Turkey"
       ]
      },
      {
       "output_type": "stream",
       "stream": "stdout",
       "text": [
        " news\n",
        "Afghanistan"
       ]
      },
      {
       "output_type": "stream",
       "stream": "stdout",
       "text": [
        " news\n",
        "Czech Republic"
       ]
      },
      {
       "output_type": "stream",
       "stream": "stdout",
       "text": [
        " news\n",
        "Andorra"
       ]
      },
      {
       "output_type": "stream",
       "stream": "stdout",
       "text": [
        " news\n",
        "Eritrea"
       ]
      },
      {
       "output_type": "stream",
       "stream": "stdout",
       "text": [
        " news\n",
        "Saint Lucia"
       ]
      },
      {
       "output_type": "stream",
       "stream": "stdout",
       "text": [
        " news\n",
        "San Marino"
       ]
      },
      {
       "output_type": "stream",
       "stream": "stdout",
       "text": [
        " news\n",
        "Kyrgyzstan"
       ]
      },
      {
       "output_type": "stream",
       "stream": "stdout",
       "text": [
        " news\n",
        "French Polynesia"
       ]
      },
      {
       "output_type": "stream",
       "stream": "stdout",
       "text": [
        " news\n",
        "France"
       ]
      },
      {
       "output_type": "stream",
       "stream": "stdout",
       "text": [
        " news\n",
        "Rwanda"
       ]
      },
      {
       "output_type": "stream",
       "stream": "stdout",
       "text": [
        " news\n",
        "Slovakia"
       ]
      },
      {
       "output_type": "stream",
       "stream": "stdout",
       "text": [
        " news\n",
        "Somalia"
       ]
      },
      {
       "output_type": "stream",
       "stream": "stdout",
       "text": [
        " news\n",
        "Peru"
       ]
      },
      {
       "output_type": "stream",
       "stream": "stdout",
       "text": [
        " news\n",
        "Laos"
       ]
      },
      {
       "output_type": "stream",
       "stream": "stdout",
       "text": [
        " news\n",
        "Norway"
       ]
      },
      {
       "output_type": "stream",
       "stream": "stdout",
       "text": [
        " news\n",
        "Malawi"
       ]
      },
      {
       "output_type": "stream",
       "stream": "stdout",
       "text": [
        " news\n",
        "Benin"
       ]
      },
      {
       "output_type": "stream",
       "stream": "stdout",
       "text": [
        " news\n",
        "Cuba"
       ]
      },
      {
       "output_type": "stream",
       "stream": "stdout",
       "text": [
        " news\n",
        "Korea (South)"
       ]
      },
      {
       "output_type": "stream",
       "stream": "stdout",
       "text": [
        " news\n",
        "Montenegro"
       ]
      },
      {
       "output_type": "stream",
       "stream": "stdout",
       "text": [
        " news\n",
        "Saint Kitts and Nevis"
       ]
      },
      {
       "output_type": "stream",
       "stream": "stdout",
       "text": [
        " news\n",
        "Togo"
       ]
      },
      {
       "output_type": "stream",
       "stream": "stdout",
       "text": [
        " news\n",
        "China"
       ]
      },
      {
       "output_type": "stream",
       "stream": "stdout",
       "text": [
        " news\n",
        "Armenia"
       ]
      },
      {
       "output_type": "stream",
       "stream": "stdout",
       "text": [
        " news\n",
        "Dominican Republic"
       ]
      },
      {
       "output_type": "stream",
       "stream": "stdout",
       "text": [
        " news\n",
        "Ukraine"
       ]
      },
      {
       "output_type": "stream",
       "stream": "stdout",
       "text": [
        " news\n",
        "Bahrain"
       ]
      },
      {
       "output_type": "stream",
       "stream": "stdout",
       "text": [
        " news\n",
        "Finland"
       ]
      },
      {
       "output_type": "stream",
       "stream": "stdout",
       "text": [
        " news\n",
        "Libya"
       ]
      },
      {
       "output_type": "stream",
       "stream": "stdout",
       "text": [
        " news\n",
        "Indonesia"
       ]
      },
      {
       "output_type": "stream",
       "stream": "stdout",
       "text": [
        " news\n",
        "Central African Republic"
       ]
      },
      {
       "output_type": "stream",
       "stream": "stdout",
       "text": [
        " news\n",
        "Mauritius"
       ]
      },
      {
       "output_type": "stream",
       "stream": "stdout",
       "text": [
        " news\n",
        "Sweden"
       ]
      },
      {
       "output_type": "stream",
       "stream": "stdout",
       "text": [
        " news\n",
        "Vietnam"
       ]
      },
      {
       "output_type": "stream",
       "stream": "stdout",
       "text": [
        " news\n",
        "British Virgin Islands"
       ]
      },
      {
       "output_type": "stream",
       "stream": "stdout",
       "text": [
        " news\n",
        "Mali"
       ]
      },
      {
       "output_type": "stream",
       "stream": "stdout",
       "text": [
        " news\n",
        "Vatican City"
       ]
      },
      {
       "output_type": "stream",
       "stream": "stdout",
       "text": [
        " news\n",
        "Russia"
       ]
      },
      {
       "output_type": "stream",
       "stream": "stdout",
       "text": [
        " news\n",
        "Bulgaria"
       ]
      },
      {
       "output_type": "stream",
       "stream": "stdout",
       "text": [
        " news\n",
        "Romania"
       ]
      },
      {
       "output_type": "stream",
       "stream": "stdout",
       "text": [
        " news\n",
        "Cura\u00e7ao"
       ]
      },
      {
       "output_type": "stream",
       "stream": "stdout",
       "text": [
        " news\n",
        "Angola"
       ]
      },
      {
       "output_type": "stream",
       "stream": "stdout",
       "text": [
        " news\n",
        "Portugal"
       ]
      },
      {
       "output_type": "stream",
       "stream": "stdout",
       "text": [
        " news\n",
        "South Africa"
       ]
      },
      {
       "output_type": "stream",
       "stream": "stdout",
       "text": [
        " news\n",
        "Nicaragua"
       ]
      },
      {
       "output_type": "stream",
       "stream": "stdout",
       "text": [
        " news\n",
        "Caribbean Netherlands"
       ]
      },
      {
       "output_type": "stream",
       "stream": "stdout",
       "text": [
        " news\n",
        "Liechtenstein"
       ]
      },
      {
       "output_type": "stream",
       "stream": "stdout",
       "text": [
        " news\n",
        "Qatar"
       ]
      },
      {
       "output_type": "stream",
       "stream": "stdout",
       "text": [
        " news\n",
        "Malaysia"
       ]
      },
      {
       "output_type": "stream",
       "stream": "stdout",
       "text": [
        " news\n",
        "Senegal"
       ]
      },
      {
       "output_type": "stream",
       "stream": "stdout",
       "text": [
        " news\n",
        "Mozambique"
       ]
      },
      {
       "output_type": "stream",
       "stream": "stdout",
       "text": [
        " news\n",
        "Uganda"
       ]
      },
      {
       "output_type": "stream",
       "stream": "stdout",
       "text": [
        " news\n",
        "Hungary"
       ]
      },
      {
       "output_type": "stream",
       "stream": "stdout",
       "text": [
        " news\n",
        "Niger"
       ]
      },
      {
       "output_type": "stream",
       "stream": "stdout",
       "text": [
        " news\n",
        "Brazil"
       ]
      },
      {
       "output_type": "stream",
       "stream": "stdout",
       "text": [
        " news\n",
        "Falkland Islands"
       ]
      },
      {
       "output_type": "stream",
       "stream": "stdout",
       "text": [
        " news\n",
        "Faroe Islands"
       ]
      },
      {
       "output_type": "stream",
       "stream": "stdout",
       "text": [
        " news\n",
        "Kuwait"
       ]
      },
      {
       "output_type": "stream",
       "stream": "stdout",
       "text": [
        " news\n",
        "Panama"
       ]
      },
      {
       "output_type": "stream",
       "stream": "stdout",
       "text": [
        " news\n",
        "Costa Rica"
       ]
      },
      {
       "output_type": "stream",
       "stream": "stdout",
       "text": [
        " news\n",
        "Luxembourg"
       ]
      },
      {
       "output_type": "stream",
       "stream": "stdout",
       "text": [
        " news\n",
        "Cape Verde"
       ]
      },
      {
       "output_type": "stream",
       "stream": "stdout",
       "text": [
        " news\n",
        "Bahamas"
       ]
      },
      {
       "output_type": "stream",
       "stream": "stdout",
       "text": [
        " news\n",
        "Gibraltar"
       ]
      },
      {
       "output_type": "stream",
       "stream": "stdout",
       "text": [
        " news\n",
        "Ivory Coast"
       ]
      },
      {
       "output_type": "stream",
       "stream": "stdout",
       "text": [
        " news\n",
        "Nigeria"
       ]
      },
      {
       "output_type": "stream",
       "stream": "stdout",
       "text": [
        " news\n",
        "Virgin Islands of the United States"
       ]
      },
      {
       "output_type": "stream",
       "stream": "stdout",
       "text": [
        " news\n",
        "Ecuador"
       ]
      },
      {
       "output_type": "stream",
       "stream": "stdout",
       "text": [
        " news\n",
        "Bangladesh"
       ]
      },
      {
       "output_type": "stream",
       "stream": "stdout",
       "text": [
        " news\n",
        "Brunei"
       ]
      },
      {
       "output_type": "stream",
       "stream": "stdout",
       "text": [
        " news\n",
        "Australia"
       ]
      },
      {
       "output_type": "stream",
       "stream": "stdout",
       "text": [
        " news\n",
        "Iran"
       ]
      },
      {
       "output_type": "stream",
       "stream": "stdout",
       "text": [
        " news\n",
        "Algeria"
       ]
      },
      {
       "output_type": "stream",
       "stream": "stdout",
       "text": [
        " news\n",
        "El Salvador"
       ]
      },
      {
       "output_type": "stream",
       "stream": "stdout",
       "text": [
        " news\n",
        "Marshall Islands"
       ]
      },
      {
       "output_type": "stream",
       "stream": "stdout",
       "text": [
        " news\n",
        "Chile"
       ]
      },
      {
       "output_type": "stream",
       "stream": "stdout",
       "text": [
        " news\n",
        "Puerto Rico"
       ]
      },
      {
       "output_type": "stream",
       "stream": "stdout",
       "text": [
        " news\n",
        "Belgium"
       ]
      },
      {
       "output_type": "stream",
       "stream": "stdout",
       "text": [
        " news\n",
        "Haiti"
       ]
      },
      {
       "output_type": "stream",
       "stream": "stdout",
       "text": [
        " news\n",
        "Belize"
       ]
      },
      {
       "output_type": "stream",
       "stream": "stdout",
       "text": [
        " news\n",
        "Congo (Dem. Rep.)"
       ]
      },
      {
       "output_type": "stream",
       "stream": "stdout",
       "text": [
        " news\n",
        "Georgia"
       ]
      },
      {
       "output_type": "stream",
       "stream": "stdout",
       "text": [
        " news\n",
        "Gambia"
       ]
      },
      {
       "output_type": "stream",
       "stream": "stdout",
       "text": [
        " news\n",
        "Philippines"
       ]
      },
      {
       "output_type": "stream",
       "stream": "stdout",
       "text": [
        " news\n",
        "Morocco"
       ]
      },
      {
       "output_type": "stream",
       "stream": "stdout",
       "text": [
        " news\n",
        "Namibia"
       ]
      },
      {
       "output_type": "stream",
       "stream": "stdout",
       "text": [
        " news\n",
        "Mongolia"
       ]
      },
      {
       "output_type": "stream",
       "stream": "stdout",
       "text": [
        " news\n",
        "Guinea-Bissau"
       ]
      },
      {
       "output_type": "stream",
       "stream": "stdout",
       "text": [
        " news\n",
        "Switzerland"
       ]
      },
      {
       "output_type": "stream",
       "stream": "stdout",
       "text": [
        " news\n",
        "Isle of Man"
       ]
      },
      {
       "output_type": "stream",
       "stream": "stdout",
       "text": [
        " news\n",
        "Chad"
       ]
      },
      {
       "output_type": "stream",
       "stream": "stdout",
       "text": [
        " news\n",
        "Estonia"
       ]
      },
      {
       "output_type": "stream",
       "stream": "stdout",
       "text": [
        " news\n",
        "Kosovo"
       ]
      },
      {
       "output_type": "stream",
       "stream": "stdout",
       "text": [
        " news\n",
        "Mexico"
       ]
      },
      {
       "output_type": "stream",
       "stream": "stdout",
       "text": [
        " news\n",
        "Lebanon"
       ]
      },
      {
       "output_type": "stream",
       "stream": "stdout",
       "text": [
        " news\n",
        "Sierra Leone"
       ]
      },
      {
       "output_type": "stream",
       "stream": "stdout",
       "text": [
        " news\n",
        "Uzbekistan"
       ]
      },
      {
       "output_type": "stream",
       "stream": "stdout",
       "text": [
        " news\n",
        "Egypt"
       ]
      },
      {
       "output_type": "stream",
       "stream": "stdout",
       "text": [
        " news\n",
        "Djibouti"
       ]
      },
      {
       "output_type": "stream",
       "stream": "stdout",
       "text": [
        " news\n",
        "Bermuda"
       ]
      },
      {
       "output_type": "stream",
       "stream": "stdout",
       "text": [
        " news\n",
        "Antigua and Barbuda"
       ]
      },
      {
       "output_type": "stream",
       "stream": "stdout",
       "text": [
        " news\n",
        "Dominica"
       ]
      },
      {
       "output_type": "stream",
       "stream": "stdout",
       "text": [
        " news\n",
        "Colombia"
       ]
      },
      {
       "output_type": "stream",
       "stream": "stdout",
       "text": [
        " news\n",
        "Burundi"
       ]
      },
      {
       "output_type": "stream",
       "stream": "stdout",
       "text": [
        " news\n",
        "Cyprus"
       ]
      },
      {
       "output_type": "stream",
       "stream": "stdout",
       "text": [
        " news\n",
        "Barbados"
       ]
      },
      {
       "output_type": "stream",
       "stream": "stdout",
       "text": [
        " news\n",
        "Madagascar"
       ]
      },
      {
       "output_type": "stream",
       "stream": "stdout",
       "text": [
        " news\n",
        "Italy"
       ]
      },
      {
       "output_type": "stream",
       "stream": "stdout",
       "text": [
        " news\n",
        "Denmark"
       ]
      },
      {
       "output_type": "stream",
       "stream": "stdout",
       "text": [
        " news\n",
        "Bhutan"
       ]
      },
      {
       "output_type": "stream",
       "stream": "stdout",
       "text": [
        " news\n",
        "Sudan"
       ]
      },
      {
       "output_type": "stream",
       "stream": "stdout",
       "text": [
        " news\n",
        "Fiji Islands"
       ]
      },
      {
       "output_type": "stream",
       "stream": "stdout",
       "text": [
        " news\n",
        "Nepal"
       ]
      },
      {
       "output_type": "stream",
       "stream": "stdout",
       "text": [
        " news\n",
        "Na"
       ]
      },
      {
       "output_type": "stream",
       "stream": "stdout",
       "text": [
        " news\n",
        "Micronesia"
       ]
      },
      {
       "output_type": "stream",
       "stream": "stdout",
       "text": [
        " news\n",
        "Maldives"
       ]
      },
      {
       "output_type": "stream",
       "stream": "stdout",
       "text": [
        " news\n",
        "Suriname"
       ]
      },
      {
       "output_type": "stream",
       "stream": "stdout",
       "text": [
        " news\n",
        "Cayman Islands"
       ]
      },
      {
       "output_type": "stream",
       "stream": "stdout",
       "text": [
        " news\n",
        "S\u00e3o Tom\u00e9 and Pr\u00edncipe"
       ]
      },
      {
       "output_type": "stream",
       "stream": "stdout",
       "text": [
        " news\n",
        "Anguilla"
       ]
      },
      {
       "output_type": "stream",
       "stream": "stdout",
       "text": [
        " news\n",
        "Venezuela"
       ]
      },
      {
       "output_type": "stream",
       "stream": "stdout",
       "text": [
        " news\n",
        "Israel"
       ]
      },
      {
       "output_type": "stream",
       "stream": "stdout",
       "text": [
        " news\n",
        "Iceland"
       ]
      },
      {
       "output_type": "stream",
       "stream": "stdout",
       "text": [
        " news\n",
        "Zambia"
       ]
      },
      {
       "output_type": "stream",
       "stream": "stdout",
       "text": [
        " news\n",
        "-"
       ]
      },
      {
       "output_type": "stream",
       "stream": "stdout",
       "text": [
        " news\n",
        "Austria"
       ]
      },
      {
       "output_type": "stream",
       "stream": "stdout",
       "text": [
        " news\n",
        "Papua New Guinea"
       ]
      },
      {
       "output_type": "stream",
       "stream": "stdout",
       "text": [
        " news\n",
        "Zimbabwe"
       ]
      },
      {
       "output_type": "stream",
       "stream": "stdout",
       "text": [
        " news\n",
        "Germany"
       ]
      },
      {
       "output_type": "stream",
       "stream": "stdout",
       "text": [
        " news\n",
        "Vanuatu"
       ]
      },
      {
       "output_type": "stream",
       "stream": "stdout",
       "text": [
        " news\n",
        "Martinique"
       ]
      },
      {
       "output_type": "stream",
       "stream": "stdout",
       "text": [
        " news\n",
        "Kazakhstan"
       ]
      },
      {
       "output_type": "stream",
       "stream": "stdout",
       "text": [
        " news\n",
        "Poland"
       ]
      },
      {
       "output_type": "stream",
       "stream": "stdout",
       "text": [
        " news\n",
        "Mauritania"
       ]
      },
      {
       "output_type": "stream",
       "stream": "stdout",
       "text": [
        " news\n",
        "Ireland"
       ]
      },
      {
       "output_type": "stream",
       "stream": "stdout",
       "text": [
        " news\n",
        "Iraq"
       ]
      },
      {
       "output_type": "stream",
       "stream": "stdout",
       "text": [
        " news\n",
        "New Caledonia"
       ]
      },
      {
       "output_type": "stream",
       "stream": "stdout",
       "text": [
        " news\n",
        "Macedonia"
       ]
      },
      {
       "output_type": "stream",
       "stream": "stdout",
       "text": [
        " news\n",
        "Trinidad and Tobago"
       ]
      },
      {
       "output_type": "stream",
       "stream": "stdout",
       "text": [
        " news\n",
        "Latvia"
       ]
      },
      {
       "output_type": "stream",
       "stream": "stdout",
       "text": [
        " news\n",
        "South Sudan"
       ]
      },
      {
       "output_type": "stream",
       "stream": "stdout",
       "text": [
        " news\n",
        "Guyana"
       ]
      },
      {
       "output_type": "stream",
       "stream": "stdout",
       "text": [
        " news\n",
        "Croatia"
       ]
      },
      {
       "output_type": "stream",
       "stream": "stdout",
       "text": [
        " news\n",
        "Syria"
       ]
      },
      {
       "output_type": "stream",
       "stream": "stdout",
       "text": [
        " news\n",
        "Sint Maarten"
       ]
      },
      {
       "output_type": "stream",
       "stream": "stdout",
       "text": [
        " news\n",
        "Honduras"
       ]
      },
      {
       "output_type": "stream",
       "stream": "stdout",
       "text": [
        " news\n",
        "Myanmar"
       ]
      },
      {
       "output_type": "stream",
       "stream": "stdout",
       "text": [
        " news\n",
        "Equatorial Guinea"
       ]
      },
      {
       "output_type": "stream",
       "stream": "stdout",
       "text": [
        " news\n",
        "Tunisia"
       ]
      },
      {
       "output_type": "stream",
       "stream": "stdout",
       "text": [
        " news\n",
        "Singapore"
       ]
      },
      {
       "output_type": "stream",
       "stream": "stdout",
       "text": [
        " news\n",
        "Serbia"
       ]
      },
      {
       "output_type": "stream",
       "stream": "stdout",
       "text": [
        " news\n",
        "Botswana"
       ]
      },
      {
       "output_type": "stream",
       "stream": "stdout",
       "text": [
        " news\n",
        "United Kingdom"
       ]
      },
      {
       "output_type": "stream",
       "stream": "stdout",
       "text": [
        " news\n",
        "Antarctica"
       ]
      },
      {
       "output_type": "stream",
       "stream": "stdout",
       "text": [
        " news\n",
        "Congo"
       ]
      },
      {
       "output_type": "stream",
       "stream": "stdout",
       "text": [
        " news\n",
        "Greece"
       ]
      },
      {
       "output_type": "stream",
       "stream": "stdout",
       "text": [
        " news\n",
        "Sri Lanka"
       ]
      },
      {
       "output_type": "stream",
       "stream": "stdout",
       "text": [
        " news\n",
        "Gabon"
       ]
      },
      {
       "output_type": "stream",
       "stream": "stdout",
       "text": [
        " news\n",
        "Comoros"
       ]
      },
      {
       "output_type": "stream",
       "stream": "stdout",
       "text": [
        " news\n"
       ]
      }
     ],
     "prompt_number": 88
    },
    {
     "cell_type": "code",
     "collapsed": false,
     "input": [],
     "language": "python",
     "metadata": {},
     "outputs": []
    }
   ],
   "metadata": {}
  }
 ]
}